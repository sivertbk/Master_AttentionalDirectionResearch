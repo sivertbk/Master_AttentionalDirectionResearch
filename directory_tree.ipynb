{
 "cells": [
  {
   "cell_type": "code",
   "execution_count": 6,
   "metadata": {},
   "outputs": [
    {
     "name": "stdout",
     "output_type": "stream",
     "text": [
      "📂 .ipynb_checkpoints/\n",
      "📂 backups/\n",
      "📂 data/\n",
      "│   📂 datasets/\n",
      "│   📂 epochs/\n",
      "│   📂 psd_data/\n",
      "📂 eeg_analyzer/\n",
      "│   📄 __init__.py\n",
      "│   📄 eeg_analyzer.py\n",
      "│   📄 metrics.py\n",
      "│   📄 processor.py\n",
      "│   📄 statistics.py\n",
      "│   📄 subject.py\n",
      "│   📄 visualizer.py\n",
      "📂 logs/\n",
      "│   📂 analysis_logs/\n",
      "│   📂 preprocessing_logs/\n",
      "📂 notebooks/\n",
      "│   📄 exploring.ipynb\n",
      "│   📄 hypothesis_testing.ipynb\n",
      "📂 plots/\n",
      "📂 scripts/\n",
      "📂 tests/\n",
      "│   📄 __init__.py\n",
      "│   📄 test_metrics.py\n",
      "│   📄 test_processing.py\n",
      "📂 utils/\n",
      "│   📄 __init__.py\n",
      "│   📄 config.py\n",
      "│   📄 file_io.py\n",
      "│   📄 helpers.py\n",
      "📄 .gitignore\n",
      "📄 README.md\n",
      "📄 directory_tree.ipynb\n",
      "📄 requirements.txt\n"
     ]
    }
   ],
   "source": [
    "\"\"\"\n",
    "Jupyter Notebook Script for å generere filstrukturen for prosjektet.\n",
    "Bruker funksjonen `print_directory_tree` fra `utils.helpers`.\n",
    "\"\"\"\n",
    "\n",
    "import os\n",
    "from utils.helpers import print_directory_tree  # Endret import\n",
    "\n",
    "# Angi rotmappen til prosjektet ditt\n",
    "root_path = os.path.abspath(os.path.join(os.getcwd()))  # Sikrer riktig path\n",
    "\n",
    "# Print ut filstrukturen\n",
    "print_directory_tree(root_path)\n"
   ]
  }
 ],
 "metadata": {
  "kernelspec": {
   "display_name": "mne-env",
   "language": "python",
   "name": "python3"
  },
  "language_info": {
   "codemirror_mode": {
    "name": "ipython",
    "version": 3
   },
   "file_extension": ".py",
   "mimetype": "text/x-python",
   "name": "python",
   "nbconvert_exporter": "python",
   "pygments_lexer": "ipython3",
   "version": "3.9.20"
  }
 },
 "nbformat": 4,
 "nbformat_minor": 2
}
