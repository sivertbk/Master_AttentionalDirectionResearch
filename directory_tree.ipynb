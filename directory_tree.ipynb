{
 "cells": [
  {
   "cell_type": "code",
   "execution_count": 5,
   "metadata": {},
   "outputs": [
    {
     "ename": "ImportError",
     "evalue": "attempted relative import with no known parent package",
     "output_type": "error",
     "traceback": [
      "\u001b[0;31m---------------------------------------------------------------------------\u001b[0m",
      "\u001b[0;31mImportError\u001b[0m                               Traceback (most recent call last)",
      "Cell \u001b[0;32mIn[5], line 7\u001b[0m\n\u001b[1;32m      1\u001b[0m \u001b[38;5;124;03m\"\"\"\u001b[39;00m\n\u001b[1;32m      2\u001b[0m \u001b[38;5;124;03mJupyter Notebook Script for å generere filstrukturen for prosjektet.\u001b[39;00m\n\u001b[1;32m      3\u001b[0m \u001b[38;5;124;03mBruker funksjonen `print_directory_tree` fra `utils.helpers`.\u001b[39;00m\n\u001b[1;32m      4\u001b[0m \u001b[38;5;124;03m\"\"\"\u001b[39;00m\n\u001b[1;32m      6\u001b[0m \u001b[38;5;28;01mimport\u001b[39;00m \u001b[38;5;21;01mos\u001b[39;00m\n\u001b[0;32m----> 7\u001b[0m \u001b[38;5;28;01mfrom\u001b[39;00m \u001b[38;5;21;01m.\u001b[39;00m\u001b[38;5;21;01mutils\u001b[39;00m \u001b[38;5;28;01mimport\u001b[39;00m print_directory_tree  \u001b[38;5;66;03m# Endret import\u001b[39;00m\n\u001b[1;32m      9\u001b[0m \u001b[38;5;66;03m# Angi rotmappen til prosjektet ditt\u001b[39;00m\n\u001b[1;32m     10\u001b[0m root_path \u001b[38;5;241m=\u001b[39m os\u001b[38;5;241m.\u001b[39mpath\u001b[38;5;241m.\u001b[39mabspath(os\u001b[38;5;241m.\u001b[39mpath\u001b[38;5;241m.\u001b[39mjoin(os\u001b[38;5;241m.\u001b[39mgetcwd()))  \u001b[38;5;66;03m# Sikrer riktig path\u001b[39;00m\n",
      "\u001b[0;31mImportError\u001b[0m: attempted relative import with no known parent package"
     ]
    }
   ],
   "source": [
    "\"\"\"\n",
    "Jupyter Notebook Script for å generere filstrukturen for prosjektet.\n",
    "Bruker funksjonen `print_directory_tree` fra `utils.helpers`.\n",
    "\"\"\"\n",
    "\n",
    "import os\n",
    "from .utils import print_directory_tree  # Endret import\n",
    "\n",
    "# Angi rotmappen til prosjektet ditt\n",
    "root_path = os.path.abspath(os.path.join(os.getcwd()))  # Sikrer riktig path\n",
    "\n",
    "# Print ut filstrukturen\n",
    "#print_directory_tree(root_path)\n"
   ]
  },
  {
   "cell_type": "code",
   "execution_count": 7,
   "metadata": {},
   "outputs": [
    {
     "ename": "AttributeError",
     "evalue": "module 'utils.helpers' has no attribute 'print_directory_tree'",
     "output_type": "error",
     "traceback": [
      "\u001b[0;31m---------------------------------------------------------------------------\u001b[0m",
      "\u001b[0;31mAttributeError\u001b[0m                            Traceback (most recent call last)",
      "Cell \u001b[0;32mIn[7], line 2\u001b[0m\n\u001b[1;32m      1\u001b[0m \u001b[38;5;28;01mimport\u001b[39;00m \u001b[38;5;21;01mutils\u001b[39;00m\u001b[38;5;21;01m.\u001b[39;00m\u001b[38;5;21;01mhelpers\u001b[39;00m\n\u001b[0;32m----> 2\u001b[0m \u001b[38;5;28mprint\u001b[39m(\u001b[43mutils\u001b[49m\u001b[38;5;241;43m.\u001b[39;49m\u001b[43mhelpers\u001b[49m\u001b[38;5;241;43m.\u001b[39;49m\u001b[43mprint_directory_tree\u001b[49m)\n",
      "\u001b[0;31mAttributeError\u001b[0m: module 'utils.helpers' has no attribute 'print_directory_tree'"
     ]
    }
   ],
   "source": [
    "import utils.helpers\n",
    "print(utils.helpers.print_directory_tree)"
   ]
  }
 ],
 "metadata": {
  "kernelspec": {
   "display_name": "mne-env",
   "language": "python",
   "name": "python3"
  },
  "language_info": {
   "codemirror_mode": {
    "name": "ipython",
    "version": 3
   },
   "file_extension": ".py",
   "mimetype": "text/x-python",
   "name": "python",
   "nbconvert_exporter": "python",
   "pygments_lexer": "ipython3",
   "version": "3.9.20"
  }
 },
 "nbformat": 4,
 "nbformat_minor": 2
}
