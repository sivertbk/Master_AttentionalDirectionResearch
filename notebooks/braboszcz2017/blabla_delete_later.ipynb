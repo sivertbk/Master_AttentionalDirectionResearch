{
 "cells": [
  {
   "cell_type": "code",
   "execution_count": 1,
   "metadata": {},
   "outputs": [],
   "source": [
    "import mne\n",
    "#from mne_bids import (BIDSPath, read_raw_bids, print_dir_tree, make_report,\n",
    "#                      find_matching_paths, get_entity_vals)\n",
    "import numpy as np\n",
    "import matplotlib.pyplot as plt\n",
    "# import scipy as sp\n",
    "# from scipy import signal\n",
    "# import seaborn as sns\n",
    "import pandas as pd\n",
    "from pathlib import Path\n",
    "import os\n",
    "from time import time\n",
    "from autoreject import AutoReject, Ransac, get_rejection_threshold\n",
    "\n",
    "%matplotlib qt"
   ]
  },
  {
   "cell_type": "code",
   "execution_count": 2,
   "metadata": {},
   "outputs": [],
   "source": [
    "# Initialize an empty dictionary for subject grouping\n",
    "subject_groups = {}\n",
    "\n",
    "# Add subjects to the dictionary based on their group\n",
    "for i in range(1, 25):\n",
    "    subject_groups[f\"sub-{i:03d}\"] = \"htr\" #Himalayan\n",
    "\n",
    "for i in range(25, 56):\n",
    "    subject_groups[f\"sub-{i:03d}\"] = \"ctr\" #Control\n",
    "\n",
    "for i in range(56, 60):\n",
    "    subject_groups[f\"sub-{i:03d}\"] = \"tm\" #Transcendental???\n",
    "\n",
    "for i in range(60, 79):\n",
    "    subject_groups[f\"sub-{i:03d}\"] = \"vip\" #Vipassana\n",
    "\n",
    "for i in range(79, 99):\n",
    "    subject_groups[f\"sub-{i:03d}\"] = \"sny\" #Shoonya Yoga\n",
    "\n",
    "\n",
    "# Creating event id for each task and practice\n",
    "event_id = {'htr/med1':1, 'htr/med2':2, 'htr/think1':3, 'htr/think2':4,\n",
    "          'ctr/med1':5, 'ctr/med2':6, 'ctr/think1':7, 'ctr/think2':8,\n",
    "          'tm/med1': 9, 'tm/med2' :10, 'tm/think1':11, 'tm/think2':12,\n",
    "          'vip/med1':13, 'vip/med2':14, 'vip/think1':15, 'vip/think2':16,\n",
    "          'sny/med1':17, 'sny/med2':18, 'sny/think1':19, 'sny/think2':20}\n",
    "\n",
    "\n",
    "\n",
    "\n",
    "def load_task_data(bids_root, subject_id, tasks):\n",
    "    \"\"\"\n",
    "    Load specific task EEG data for a subject from a BIDS-like dataset.\n",
    "    \n",
    "    Parameters:\n",
    "    - bids_root: str, path to the root of the dataset.\n",
    "    - subject_id: str, subject identifier (e.g., '088').\n",
    "    - tasks: list of str, the task names to load (e.g., ['med2', 'think2']).\n",
    "    \n",
    "    Returns:\n",
    "    - raw_dict: dict, containing MNE Raw objects for each task.\n",
    "    \"\"\"\n",
    "    # Define the subject's EEG folder\n",
    "    subject_path = os.path.join(bids_root, f\"sub-{subject_id}\", \"eeg\")\n",
    "    \n",
    "    if not os.path.exists(subject_path):\n",
    "        raise FileNotFoundError(f\"Subject folder not found: {subject_path}\")\n",
    "    \n",
    "    raw_dict = {}  # Dictionary to hold Raw objects for each task\n",
    "    \n",
    "    for task in tasks:\n",
    "        # Locate the BDF file for the specific task\n",
    "        bdf_file = os.path.join(subject_path, f\"sub-{subject_id}_task-{task}_eeg.bdf\")\n",
    "        if not os.path.exists(bdf_file):\n",
    "            print(f\"WARNING: BDF file not found for task '{task}'. Skipping...\")\n",
    "            continue\n",
    "        \n",
    "        # Load the BDF file\n",
    "        raw = mne.io.read_raw_bdf(bdf_file, preload=True)\n",
    "        print(f\"Loaded BDF file for task '{task}': {bdf_file}\")\n",
    "        \n",
    "        # Optionally, load metadata from JSON/TSV files\n",
    "        # Metadata file paths\n",
    "        json_file = os.path.join(subject_path, f\"sub-{subject_id}_task-{task}_eeg.json\")\n",
    "        tsv_file = os.path.join(subject_path, f\"sub-{subject_id}_task-{task}_channels.tsv\")\n",
    "        \n",
    "        metadata = {}\n",
    "        if os.path.exists(json_file):\n",
    "            with open(json_file, 'r') as f:\n",
    "                metadata['json'] = f.read()\n",
    "            print(f\"Loaded metadata JSON for task '{task}'\")\n",
    "        \n",
    "        if os.path.exists(tsv_file):\n",
    "            metadata['tsv'] = tsv_file  # Store TSV file path for later use if needed\n",
    "            print(f\"Loaded metadata TSV for task '{task}'\")\n",
    "        \n",
    "        # Add the loaded data and metadata to the dictionary\n",
    "        raw_dict[task] = {\n",
    "            'raw': raw,\n",
    "            'metadata': metadata\n",
    "        }\n",
    "    \n",
    "    if not raw_dict:\n",
    "        raise ValueError(f\"No data was loaded for subject {subject_id} with tasks {tasks}.\")\n",
    "    \n",
    "    return raw_dict\n"
   ]
  },
  {
   "cell_type": "code",
   "execution_count": 3,
   "metadata": {},
   "outputs": [
    {
     "name": "stdout",
     "output_type": "stream",
     "text": [
      "\n",
      "##### Initiating the preprocessing pipeline for the Braboszcz et al. (2017) dataset. ######\n",
      "\n",
      "##### Loading data #####\n"
     ]
    },
    {
     "ename": "FileNotFoundError",
     "evalue": "Subject folder not found: /home/sivert/Documents/Specialization_project/Datasets/ds003969/sub-077\\eeg",
     "output_type": "error",
     "traceback": [
      "\u001b[31m---------------------------------------------------------------------------\u001b[39m",
      "\u001b[31mFileNotFoundError\u001b[39m                         Traceback (most recent call last)",
      "\u001b[36mCell\u001b[39m\u001b[36m \u001b[39m\u001b[32mIn[3]\u001b[39m\u001b[32m, line 11\u001b[39m\n\u001b[32m      9\u001b[39m \u001b[38;5;28mprint\u001b[39m(\u001b[33m'\u001b[39m\u001b[38;5;130;01m\\n\u001b[39;00m\u001b[33m##### Loading data #####\u001b[39m\u001b[33m'\u001b[39m)\n\u001b[32m     10\u001b[39m \u001b[38;5;66;03m# Load data\u001b[39;00m\n\u001b[32m---> \u001b[39m\u001b[32m11\u001b[39m subject_data = \u001b[43mload_task_data\u001b[49m\u001b[43m(\u001b[49m\u001b[43mbids_root\u001b[49m\u001b[43m,\u001b[49m\u001b[43m \u001b[49m\u001b[43msubject_id\u001b[49m\u001b[43m,\u001b[49m\u001b[43m \u001b[49m\u001b[43mtasks\u001b[49m\u001b[43m)\u001b[49m\n\u001b[32m     13\u001b[39m \u001b[38;5;66;03m# Access raw data for a specific task\u001b[39;00m\n\u001b[32m     14\u001b[39m raw_med = subject_data[\u001b[33m'\u001b[39m\u001b[33mmed2\u001b[39m\u001b[33m'\u001b[39m][\u001b[33m'\u001b[39m\u001b[33mraw\u001b[39m\u001b[33m'\u001b[39m]\n",
      "\u001b[36mCell\u001b[39m\u001b[36m \u001b[39m\u001b[32mIn[2]\u001b[39m\u001b[32m, line 47\u001b[39m, in \u001b[36mload_task_data\u001b[39m\u001b[34m(bids_root, subject_id, tasks)\u001b[39m\n\u001b[32m     44\u001b[39m subject_path = os.path.join(bids_root, \u001b[33mf\u001b[39m\u001b[33m\"\u001b[39m\u001b[33msub-\u001b[39m\u001b[38;5;132;01m{\u001b[39;00msubject_id\u001b[38;5;132;01m}\u001b[39;00m\u001b[33m\"\u001b[39m, \u001b[33m\"\u001b[39m\u001b[33meeg\u001b[39m\u001b[33m\"\u001b[39m)\n\u001b[32m     46\u001b[39m \u001b[38;5;28;01mif\u001b[39;00m \u001b[38;5;129;01mnot\u001b[39;00m os.path.exists(subject_path):\n\u001b[32m---> \u001b[39m\u001b[32m47\u001b[39m     \u001b[38;5;28;01mraise\u001b[39;00m \u001b[38;5;167;01mFileNotFoundError\u001b[39;00m(\u001b[33mf\u001b[39m\u001b[33m\"\u001b[39m\u001b[33mSubject folder not found: \u001b[39m\u001b[38;5;132;01m{\u001b[39;00msubject_path\u001b[38;5;132;01m}\u001b[39;00m\u001b[33m\"\u001b[39m)\n\u001b[32m     49\u001b[39m raw_dict = {}  \u001b[38;5;66;03m# Dictionary to hold Raw objects for each task\u001b[39;00m\n\u001b[32m     51\u001b[39m \u001b[38;5;28;01mfor\u001b[39;00m task \u001b[38;5;129;01min\u001b[39;00m tasks:\n\u001b[32m     52\u001b[39m     \u001b[38;5;66;03m# Locate the BDF file for the specific task\u001b[39;00m\n",
      "\u001b[31mFileNotFoundError\u001b[39m: Subject folder not found: /home/sivert/Documents/Specialization_project/Datasets/ds003969/sub-077\\eeg"
     ]
    }
   ],
   "source": [
    "# Print out intiation text with path to the dataset and events\n",
    "print(\"\\n##### Initiating the preprocessing pipeline for the Braboszcz et al. (2017) dataset. ######\")\n",
    "\n",
    "bids_root = \"/home/sivert/Documents/Specialization_project/Datasets/ds003969/\"\n",
    "subject_id = \"077\"\n",
    "tasks = [\"med2\", \"think2\"]\n",
    "subject_group = subject_groups['sub-'+subject_id]\n",
    "\n",
    "print('\\n##### Loading data #####')\n",
    "# Load data\n",
    "subject_data = load_task_data(bids_root, subject_id, tasks)\n",
    "\n",
    "# Access raw data for a specific task\n",
    "raw_med = subject_data['med2']['raw']\n",
    "raw_med.set_channel_types({'EXG1': 'misc',\n",
    "                    'EXG2': 'misc',\n",
    "                    'EXG3': 'misc',\n",
    "                    'EXG4': 'misc',\n",
    "                    'EXG5': 'misc',\n",
    "                    'EXG6': 'misc',\n",
    "                    'EXG7': 'misc',\n",
    "                    'EXG8': 'misc',\n",
    "                    'GSR1': 'misc',\n",
    "                    'GSR2': 'misc',\n",
    "                    'Erg1': 'misc',\n",
    "                    'Erg2': 'misc',\n",
    "                    'Resp': 'bio',\n",
    "                    'Plet': 'bio',\n",
    "                    'Temp': 'bio'\n",
    "})\n",
    "# Drop non-eeg channels\n",
    "#raw_med.pick('eeg')\n",
    "\n",
    "raw_med.plot(highpass=1, lowpass=None, block=True)\n",
    "\n",
    "\n",
    "from mne.channels import find_ch_adjacency\n",
    "from mne.viz import plot_ch_adjacency\n",
    "\n"
   ]
  },
  {
   "cell_type": "code",
   "execution_count": null,
   "metadata": {},
   "outputs": [
    {
     "name": "stdout",
     "output_type": "stream",
     "text": [
      "Found existing bad channels for sub-069 - task-think2\n",
      "Extracting EDF parameters from C:\\Users\\si_ve\\Documents\\Master_AttentionalDirectionResearch\\data\\braboszcz2017\\raw\\sub-069\\eeg\\sub-069_task-think2_eeg.bdf...\n",
      "BDF file detected\n",
      "Setting channel info structure...\n",
      "Creating raw.info structure...\n",
      "Reading 0 ... 618495  =      0.000 ...   603.999 secs...\n",
      "Trigger channel Status has a non-zero initial value of 65536 (consider using initial_event=True to detect this event)\n"
     ]
    },
    {
     "name": "stderr",
     "output_type": "stream",
     "text": [
      "C:\\Users\\si_ve\\Documents\\Master_AttentionalDirectionResearch\\utils\\preprocessing_tools.py:52: RuntimeWarning: The unit for channel(s) EXG1, EXG2, EXG3, EXG4, EXG5, EXG6, EXG7, EXG8, Erg1, Erg2, GSR1, GSR2 has changed from V to NA.\n",
      "  raw.set_channel_types({'EXG1': 'misc',\n"
     ]
    },
    {
     "name": "stdout",
     "output_type": "stream",
     "text": [
      "Trigger channel Status has a non-zero initial value of 65536 (consider using initial_event=True to detect this event)\n",
      "Setting up high-pass filter at 1 Hz\n",
      "\n",
      "IIR filter parameters\n",
      "---------------------\n",
      "Butterworth highpass zero-phase (two-pass forward and reverse) non-causal filter:\n",
      "- Filter order 8 (effective, after forward-backward)\n",
      "- Cutoff at 1.00 Hz: -6.02 dB\n",
      "\n"
     ]
    },
    {
     "name": "stderr",
     "output_type": "stream",
     "text": [
      "c:\\Users\\si_ve\\anaconda3\\envs\\mne\\Lib\\site-packages\\mne_qt_browser\\_pg_figure.py:4372: RuntimeWarning: Precision loss occurred in moment calculation due to catastrophic cancellation. This occurs when the data are nearly identical. Results may be unreliable.\n",
      "  z = zscore(data, axis=1)\n"
     ]
    },
    {
     "name": "stdout",
     "output_type": "stream",
     "text": [
      "Channels marked as bad:\n",
      "['Fp1', 'FC3', 'T7', 'PO3', 'O1', 'POz', 'F4', 'FT8', 'FC4', 'FC2', 'P10', 'PO8', 'PO4', 'O2']\n"
     ]
    },
    {
     "data": {
      "text/plain": [
       "<mne_qt_browser._pg_figure.MNEQtBrowser at 0x1fa11123d00>"
      ]
     },
     "execution_count": 6,
     "metadata": {},
     "output_type": "execute_result"
    }
   ],
   "source": [
    "from utils.file_io import load_raw_data, load_bad_channels\n",
    "from utils.preprocessing_tools import prepare_raw_data\n",
    "from utils.config import DATASETS, set_plot_style, EEG_SETTINGS\n",
    "import utils.config as config\n",
    "\n",
    "set_plot_style()\n",
    "\n",
    "DATASET = DATASETS['braboszcz2017']\n",
    "path_derivatives = DATASET.path_derivatives\n",
    "subject = '069'\n",
    "task = 'think2'\n",
    "\n",
    "bad_chs = load_bad_channels(\n",
    "        save_dir=path_derivatives,\n",
    "        dataset=DATASET.f_name,\n",
    "        subject=subject,\n",
    "        task=task\n",
    "    )\n",
    "\n",
    "raw = load_raw_data(dataset=DATASET, subject=subject, task=task)\n",
    "\n",
    "raw = prepare_raw_data(raw, dataset=DATASET, eeg_settings=config.EEG_SETTINGS)\n",
    "\n",
    "raw.info['bads'] = bad_chs\n",
    "\n",
    "raw.plot(highpass=1, lowpass=None, block=True)\n"
   ]
  },
  {
   "cell_type": "code",
   "execution_count": 5,
   "metadata": {},
   "outputs": [
    {
     "name": "stdout",
     "output_type": "stream",
     "text": [
      "Found existing bad channels for sub-9 - ses-1\n",
      "Extracting EDF parameters from C:\\Users\\si_ve\\Documents\\Master_AttentionalDirectionResearch\\data\\jin2019\\raw\\sub9_1.bdf...\n",
      "BDF file detected\n",
      "Setting channel info structure...\n",
      "Creating raw.info structure...\n",
      "Reading 0 ... 3100671  =      0.000 ...  6055.998 secs...\n"
     ]
    },
    {
     "name": "stderr",
     "output_type": "stream",
     "text": [
      "C:\\Users\\si_ve\\Documents\\Master_AttentionalDirectionResearch\\utils\\preprocessing_tools.py:92: RuntimeWarning: The unit for channel(s) EXG5, EXG6, EXG7, EXG8 has changed from V to NA.\n",
      "  raw.set_channel_types({\n"
     ]
    },
    {
     "name": "stdout",
     "output_type": "stream",
     "text": [
      "Trigger channel Status has a non-zero initial value of 65536 (consider using initial_event=True to detect this event)\n",
      "831 events found on stim channel Status\n",
      "Event IDs: [   10    11    12    13    14    20    21    30    40   254 65790]\n",
      "Trigger channel Status has a non-zero initial value of 65536 (consider using initial_event=True to detect this event)\n",
      "831 events found on stim channel Status\n",
      "Event IDs: [   10    11    12    13    14    20    21    30    40   254 65790]\n",
      "Setting up high-pass filter at 1 Hz\n",
      "\n",
      "IIR filter parameters\n",
      "---------------------\n",
      "Butterworth highpass zero-phase (two-pass forward and reverse) non-causal filter:\n",
      "- Filter order 8 (effective, after forward-backward)\n",
      "- Cutoff at 1.00 Hz: -6.02 dB\n",
      "\n",
      "Channels marked as bad:\n",
      "['P2']\n"
     ]
    },
    {
     "data": {
      "text/plain": [
       "<mne_qt_browser._pg_figure.MNEQtBrowser at 0x1f9fa828940>"
      ]
     },
     "execution_count": 5,
     "metadata": {},
     "output_type": "execute_result"
    }
   ],
   "source": [
    "from utils.file_io import load_raw_data, load_bad_channels\n",
    "from utils.preprocessing_tools import prepare_raw_data\n",
    "from utils.config import DATASETS\n",
    "import utils.config as config\n",
    "\n",
    "DATASET = DATASETS['jin2019']\n",
    "path_derivatives = DATASET.path_derivatives\n",
    "subject = 9\n",
    "session = 1\n",
    "\n",
    "bad_chs = load_bad_channels(\n",
    "        save_dir=path_derivatives,\n",
    "        dataset=DATASET.f_name,\n",
    "        subject=subject,\n",
    "        session=session\n",
    "    )\n",
    "\n",
    "raw = load_raw_data(dataset=DATASET, subject=subject, session=session)\n",
    "\n",
    "raw = prepare_raw_data(raw, dataset=DATASET, eeg_settings=config.EEG_SETTINGS)\n",
    "\n",
    "raw.info['bads'] = bad_chs\n",
    "\n",
    "raw.plot(highpass=1, lowpass=None, block=True)\n"
   ]
  }
 ],
 "metadata": {
  "kernelspec": {
   "display_name": "mne",
   "language": "python",
   "name": "python3"
  },
  "language_info": {
   "codemirror_mode": {
    "name": "ipython",
    "version": 3
   },
   "file_extension": ".py",
   "mimetype": "text/x-python",
   "name": "python",
   "nbconvert_exporter": "python",
   "pygments_lexer": "ipython3",
   "version": "3.11.11"
  }
 },
 "nbformat": 4,
 "nbformat_minor": 2
}
