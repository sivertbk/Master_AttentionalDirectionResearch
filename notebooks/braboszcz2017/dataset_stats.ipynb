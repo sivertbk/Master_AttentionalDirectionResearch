{
 "cells": [
  {
   "cell_type": "markdown",
   "id": "a2c665a4",
   "metadata": {},
   "source": [
    "**For Each Dataset (braboszcz2017, jin2019, touryan2022), provide:**\n",
    "\n",
    "Subjects:\n",
    "\n",
    "- How many participants?\n",
    "\n",
    "- Are they the same across tasks (if multiple tasks exist)?\n",
    "\n",
    "Tasks:\n",
    "\n",
    "- List the tasks used.\n",
    "\n",
    "- Is the cognitive state comparison done within the same task or across tasks?\n",
    "\n",
    "Cognitive States Compared:\n",
    "\n",
    "- What are the two cognitive states (e.g., focused, mind-wandering)?\n",
    "\n",
    "- How are they defined or inferred (e.g., self-reports, probes, behavioral metrics)?\n",
    "\n",
    "Epochs/Trials:\n",
    "\n",
    "-  Do you have trial-level data (e.g., multiple epochs per condition per subject)?\n",
    "\n",
    "- Are the number of epochs per condition balanced?\n",
    "\n",
    "Signal Features:\n",
    "\n",
    "- What data are you comparing? (e.g., alpha-band power, broadband power, ERPs)\n",
    "\n",
    "- Are the features already averaged or trial-level?\n",
    "\n",
    "Subject-level pairing:\n",
    "\n",
    "- For each subject, do you have observations from both cognitive states?"
   ]
  },
  {
   "cell_type": "code",
   "execution_count": 1,
   "id": "aa0fefd0",
   "metadata": {},
   "outputs": [
    {
     "name": "stdout",
     "output_type": "stream",
     "text": [
      "Dataset: Braboszcz et al. (2017)\n",
      " Subjects:\n",
      "    - 50 subjects, 2 groups: [ctr, vip]\n",
      " Tasks:\n",
      "    - med2, think2\n",
      " States:\n",
      "    - MW, OT\n",
      " Epochs:\n",
      "    - Median epochs per condition: [med2 - OT: 117.0, think2 - MW: 115.0]\n",
      "    - Min epochs per condition: [med2 - OT: 75, think2 - MW: 64]\n",
      "    - Max epochs per condition: [med2 - OT: 182, think2 - MW: 129]\n",
      "    - State ratios: mean:0.987, min:0.484 (subject_id: 040), max:1.613 (subject_id: 063)\n"
     ]
    }
   ],
   "source": [
    "from utils.config import DATASETS\n",
    "from eeg_analyzer.dataset import Dataset\n",
    "\n",
    "dataset_config = DATASETS['braboszcz2017']\n",
    "dataset = Dataset(dataset_config)\n",
    "dataset.load_subjects()\n",
    "\n",
    "# provide subject info\n",
    "print(dataset)"
   ]
  },
  {
   "cell_type": "code",
   "execution_count": null,
   "id": "4933044a",
   "metadata": {},
   "outputs": [],
   "source": []
  }
 ],
 "metadata": {
  "kernelspec": {
   "display_name": "mne",
   "language": "python",
   "name": "python3"
  },
  "language_info": {
   "codemirror_mode": {
    "name": "ipython",
    "version": 3
   },
   "file_extension": ".py",
   "mimetype": "text/x-python",
   "name": "python",
   "nbconvert_exporter": "python",
   "pygments_lexer": "ipython3",
   "version": "3.11.11"
  }
 },
 "nbformat": 4,
 "nbformat_minor": 5
}
