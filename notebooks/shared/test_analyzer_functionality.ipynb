{
 "cells": [
  {
   "cell_type": "markdown",
   "id": "40af3e2c",
   "metadata": {},
   "source": [
    "# Initialize analyzer"
   ]
  },
  {
   "cell_type": "code",
   "execution_count": 1,
   "id": "ef7822a4",
   "metadata": {},
   "outputs": [
    {
     "name": "stdout",
     "output_type": "stream",
     "text": [
      "[EEGAnalyzer - eeg_analyzer_test] Could not find saved analyzer state at C:\\Users\\si_ve\\Documents\\Master_AttentionalDirectionResearch\\data\\eeg_analyzer_derivatives\\eeg_analyzer_test\\analyzer_state.pkl\n",
      "Analyzer eeg_analyzer_test not found. Creating a new one.\n",
      "[EEGAnalyzer - eeg_analyzer_test] EEGAnalyzer instance 'eeg_analyzer_test': Directory already exists at C:\\Users\\si_ve\\Documents\\Master_AttentionalDirectionResearch\\data\\eeg_analyzer_derivatives\\eeg_analyzer_test. Will use this directory.\n"
     ]
    },
    {
     "name": "stderr",
     "output_type": "stream",
     "text": [
      "Loading subjects: 100%|██████████| 50/50 [01:31<00:00,  1.84s/it]\n"
     ]
    },
    {
     "name": "stdout",
     "output_type": "stream",
     "text": [
      "[EEGAnalyzer - eeg_analyzer_test] Loaded dataset: braboszcz2017 with 50 subjects.\n"
     ]
    },
    {
     "name": "stderr",
     "output_type": "stream",
     "text": [
      "Loading subjects: 100%|██████████| 30/30 [02:28<00:00,  4.95s/it]\n"
     ]
    },
    {
     "name": "stdout",
     "output_type": "stream",
     "text": [
      "[EEGAnalyzer - eeg_analyzer_test] Loaded dataset: jin2019 with 30 subjects.\n"
     ]
    },
    {
     "name": "stderr",
     "output_type": "stream",
     "text": [
      "Loading subjects: 100%|██████████| 20/20 [00:35<00:00,  1.79s/it]"
     ]
    },
    {
     "name": "stdout",
     "output_type": "stream",
     "text": [
      "[EEGAnalyzer - eeg_analyzer_test] Loaded dataset: touryan2022 with 20 subjects.\n"
     ]
    },
    {
     "name": "stderr",
     "output_type": "stream",
     "text": [
      "\n"
     ]
    }
   ],
   "source": [
    "import numpy as np\n",
    "import pandas as pd\n",
    "import os\n",
    "\n",
    "from eeg_analyzer.eeg_analyzer import EEGAnalyzer\n",
    "from utils.config import DATASETS, ANALYSIS_LOG_PATH\n",
    "\n",
    "ANALYZER_NAME = \"eeg_analyzer_test\"\n",
    "\n",
    "# Trying to load the EEGAnalyzer\n",
    "analyzer = EEGAnalyzer.load_analyzer(ANALYZER_NAME)\n",
    "if analyzer is None:\n",
    "    print(f\"Analyzer {ANALYZER_NAME} not found. Creating a new one.\")\n",
    "    analyzer = EEGAnalyzer(DATASETS, ANALYZER_NAME)"
   ]
  },
  {
   "cell_type": "markdown",
   "id": "fdac22e0",
   "metadata": {},
   "source": [
    "# Organizing the data\n",
    "Per-subject, per-session, per-channel mean log-band power for each state"
   ]
  },
  {
   "cell_type": "code",
   "execution_count": null,
   "id": "8b764517",
   "metadata": {},
   "outputs": [],
   "source": []
  }
 ],
 "metadata": {
  "kernelspec": {
   "display_name": "mne",
   "language": "python",
   "name": "python3"
  },
  "language_info": {
   "codemirror_mode": {
    "name": "ipython",
    "version": 3
   },
   "file_extension": ".py",
   "mimetype": "text/x-python",
   "name": "python",
   "nbconvert_exporter": "python",
   "pygments_lexer": "ipython3",
   "version": "3.11.11"
  }
 },
 "nbformat": 4,
 "nbformat_minor": 5
}
