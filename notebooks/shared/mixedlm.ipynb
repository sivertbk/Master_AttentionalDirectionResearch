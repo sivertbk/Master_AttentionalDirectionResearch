{
 "cells": [
  {
   "cell_type": "code",
   "execution_count": 1,
   "id": "d5aa6ec5",
   "metadata": {},
   "outputs": [
    {
     "name": "stdout",
     "output_type": "stream",
     "text": [
      "[EEGAnalyzer - eeg_analyzer_test] EEGAnalyzer state loaded from C:\\Users\\si_ve\\Documents\\Master_AttentionalDirectionResearch\\data\\eeg_analyzer_derivatives\\eeg_analyzer_test\\analyzer_state.pkl\n"
     ]
    }
   ],
   "source": [
    "import statsmodels.formula.api as smf\n",
    "import pandas as pd\n",
    "\n",
    "from eeg_analyzer import EEGAnalyzer\n",
    "from utils.config import DATASETS\n",
    "\n",
    "ANALYZER_NAME = \"eeg_analyzer_test\"\n",
    "\n",
    "# Trying to load the EEGAnalyzer\n",
    "analyzer = EEGAnalyzer.load_analyzer(ANALYZER_NAME)\n",
    "if analyzer is None:\n",
    "    print(f\"Analyzer {ANALYZER_NAME} not found. Creating a new one.\")\n",
    "    analyzer = EEGAnalyzer(DATASETS, ANALYZER_NAME)\n",
    "    analyzer.save_analyzer()"
   ]
  },
  {
   "cell_type": "code",
   "execution_count": 3,
   "id": "aa5ffe7e",
   "metadata": {},
   "outputs": [
    {
     "name": "stdout",
     "output_type": "stream",
     "text": [
      "[EEGAnalyzer - eeg_analyzer_test] Creating DataFrame from datasets...\n",
      "[EEGAnalyzer - eeg_analyzer_test] Processing dataset: braboszcz2017\n",
      "[EEGAnalyzer - eeg_analyzer_test] Processing dataset: jin2019\n",
      "[EEGAnalyzer - eeg_analyzer_test] Processing dataset: touryan2022\n",
      "[EEGAnalyzer - eeg_analyzer_test] DataFrame created with 5165632 rows and 14 columns.\n",
      "DataFrame head:\n"
     ]
    },
    {
     "data": {
      "application/vnd.microsoft.datawrangler.viewer.v0+json": {
       "columns": [
        {
         "name": "index",
         "rawType": "int64",
         "type": "integer"
        },
        {
         "name": "dataset",
         "rawType": "object",
         "type": "string"
        },
        {
         "name": "subject_session",
         "rawType": "object",
         "type": "string"
        },
        {
         "name": "subject_id",
         "rawType": "object",
         "type": "string"
        },
        {
         "name": "session_id",
         "rawType": "int64",
         "type": "integer"
        },
        {
         "name": "group",
         "rawType": "object",
         "type": "string"
        },
        {
         "name": "epoch_idx",
         "rawType": "int64",
         "type": "integer"
        },
        {
         "name": "task",
         "rawType": "object",
         "type": "string"
        },
        {
         "name": "task_orientation",
         "rawType": "object",
         "type": "string"
        },
        {
         "name": "state",
         "rawType": "object",
         "type": "string"
        },
        {
         "name": "channel",
         "rawType": "object",
         "type": "string"
        },
        {
         "name": "cortical_region",
         "rawType": "object",
         "type": "string"
        },
        {
         "name": "hemisphere",
         "rawType": "object",
         "type": "string"
        },
        {
         "name": "band_power",
         "rawType": "float64",
         "type": "float"
        },
        {
         "name": "log_band_power",
         "rawType": "float64",
         "type": "float"
        }
       ],
       "ref": "b07eadca-1b7e-4f1d-abfa-5bcbdbca002a",
       "rows": [
        [
         "0",
         "braboszcz2017",
         "025_1",
         "025",
         "1",
         "ctr",
         "5",
         "med2",
         "internal",
         "OT",
         "Fp1",
         "prefrontal",
         "left",
         "6.109081746956516",
         "1.809776474975467"
        ],
        [
         "1",
         "braboszcz2017",
         "025_1",
         "025",
         "1",
         "ctr",
         "5",
         "med2",
         "internal",
         "OT",
         "AF7",
         "prefrontal",
         "left",
         "5.51639113635269",
         "1.7077238668356456"
        ],
        [
         "2",
         "braboszcz2017",
         "025_1",
         "025",
         "1",
         "ctr",
         "5",
         "med2",
         "internal",
         "OT",
         "AF3",
         "prefrontal",
         "left",
         "6.665416678681045",
         "1.8969324691080536"
        ],
        [
         "3",
         "braboszcz2017",
         "025_1",
         "025",
         "1",
         "ctr",
         "5",
         "med2",
         "internal",
         "OT",
         "F1",
         "fronto-parietal",
         "left",
         "8.139580472718244",
         "2.0967386397081675"
        ],
        [
         "4",
         "braboszcz2017",
         "025_1",
         "025",
         "1",
         "ctr",
         "5",
         "med2",
         "internal",
         "OT",
         "F3",
         "fronto-parietal",
         "left",
         "7.792554755297843",
         "2.053168759301058"
        ]
       ],
       "shape": {
        "columns": 14,
        "rows": 5
       }
      },
      "text/html": [
       "<div>\n",
       "<style scoped>\n",
       "    .dataframe tbody tr th:only-of-type {\n",
       "        vertical-align: middle;\n",
       "    }\n",
       "\n",
       "    .dataframe tbody tr th {\n",
       "        vertical-align: top;\n",
       "    }\n",
       "\n",
       "    .dataframe thead th {\n",
       "        text-align: right;\n",
       "    }\n",
       "</style>\n",
       "<table border=\"1\" class=\"dataframe\">\n",
       "  <thead>\n",
       "    <tr style=\"text-align: right;\">\n",
       "      <th></th>\n",
       "      <th>dataset</th>\n",
       "      <th>subject_session</th>\n",
       "      <th>subject_id</th>\n",
       "      <th>session_id</th>\n",
       "      <th>group</th>\n",
       "      <th>epoch_idx</th>\n",
       "      <th>task</th>\n",
       "      <th>task_orientation</th>\n",
       "      <th>state</th>\n",
       "      <th>channel</th>\n",
       "      <th>cortical_region</th>\n",
       "      <th>hemisphere</th>\n",
       "      <th>band_power</th>\n",
       "      <th>log_band_power</th>\n",
       "    </tr>\n",
       "  </thead>\n",
       "  <tbody>\n",
       "    <tr>\n",
       "      <th>0</th>\n",
       "      <td>braboszcz2017</td>\n",
       "      <td>025_1</td>\n",
       "      <td>025</td>\n",
       "      <td>1</td>\n",
       "      <td>ctr</td>\n",
       "      <td>5</td>\n",
       "      <td>med2</td>\n",
       "      <td>internal</td>\n",
       "      <td>OT</td>\n",
       "      <td>Fp1</td>\n",
       "      <td>prefrontal</td>\n",
       "      <td>left</td>\n",
       "      <td>6.109082</td>\n",
       "      <td>1.809776</td>\n",
       "    </tr>\n",
       "    <tr>\n",
       "      <th>1</th>\n",
       "      <td>braboszcz2017</td>\n",
       "      <td>025_1</td>\n",
       "      <td>025</td>\n",
       "      <td>1</td>\n",
       "      <td>ctr</td>\n",
       "      <td>5</td>\n",
       "      <td>med2</td>\n",
       "      <td>internal</td>\n",
       "      <td>OT</td>\n",
       "      <td>AF7</td>\n",
       "      <td>prefrontal</td>\n",
       "      <td>left</td>\n",
       "      <td>5.516391</td>\n",
       "      <td>1.707724</td>\n",
       "    </tr>\n",
       "    <tr>\n",
       "      <th>2</th>\n",
       "      <td>braboszcz2017</td>\n",
       "      <td>025_1</td>\n",
       "      <td>025</td>\n",
       "      <td>1</td>\n",
       "      <td>ctr</td>\n",
       "      <td>5</td>\n",
       "      <td>med2</td>\n",
       "      <td>internal</td>\n",
       "      <td>OT</td>\n",
       "      <td>AF3</td>\n",
       "      <td>prefrontal</td>\n",
       "      <td>left</td>\n",
       "      <td>6.665417</td>\n",
       "      <td>1.896932</td>\n",
       "    </tr>\n",
       "    <tr>\n",
       "      <th>3</th>\n",
       "      <td>braboszcz2017</td>\n",
       "      <td>025_1</td>\n",
       "      <td>025</td>\n",
       "      <td>1</td>\n",
       "      <td>ctr</td>\n",
       "      <td>5</td>\n",
       "      <td>med2</td>\n",
       "      <td>internal</td>\n",
       "      <td>OT</td>\n",
       "      <td>F1</td>\n",
       "      <td>fronto-parietal</td>\n",
       "      <td>left</td>\n",
       "      <td>8.139580</td>\n",
       "      <td>2.096739</td>\n",
       "    </tr>\n",
       "    <tr>\n",
       "      <th>4</th>\n",
       "      <td>braboszcz2017</td>\n",
       "      <td>025_1</td>\n",
       "      <td>025</td>\n",
       "      <td>1</td>\n",
       "      <td>ctr</td>\n",
       "      <td>5</td>\n",
       "      <td>med2</td>\n",
       "      <td>internal</td>\n",
       "      <td>OT</td>\n",
       "      <td>F3</td>\n",
       "      <td>fronto-parietal</td>\n",
       "      <td>left</td>\n",
       "      <td>7.792555</td>\n",
       "      <td>2.053169</td>\n",
       "    </tr>\n",
       "  </tbody>\n",
       "</table>\n",
       "</div>"
      ],
      "text/plain": [
       "         dataset subject_session subject_id  session_id group  epoch_idx  \\\n",
       "0  braboszcz2017           025_1        025           1   ctr          5   \n",
       "1  braboszcz2017           025_1        025           1   ctr          5   \n",
       "2  braboszcz2017           025_1        025           1   ctr          5   \n",
       "3  braboszcz2017           025_1        025           1   ctr          5   \n",
       "4  braboszcz2017           025_1        025           1   ctr          5   \n",
       "\n",
       "   task task_orientation state channel  cortical_region hemisphere  \\\n",
       "0  med2         internal    OT     Fp1       prefrontal       left   \n",
       "1  med2         internal    OT     AF7       prefrontal       left   \n",
       "2  med2         internal    OT     AF3       prefrontal       left   \n",
       "3  med2         internal    OT      F1  fronto-parietal       left   \n",
       "4  med2         internal    OT      F3  fronto-parietal       left   \n",
       "\n",
       "   band_power  log_band_power  \n",
       "0    6.109082        1.809776  \n",
       "1    5.516391        1.707724  \n",
       "2    6.665417        1.896932  \n",
       "3    8.139580        2.096739  \n",
       "4    7.792555        2.053169  "
      ]
     },
     "execution_count": 3,
     "metadata": {},
     "output_type": "execute_result"
    }
   ],
   "source": [
    "# Creating a DataFrame with the data\n",
    "df = analyzer.create_dataframe()\n",
    "\n",
    "# Printing the first few rows of the DataFrame\n",
    "print(\"DataFrame head:\")\n",
    "df.head()"
   ]
  },
  {
   "cell_type": "code",
   "execution_count": 4,
   "id": "1038e224",
   "metadata": {},
   "outputs": [
    {
     "ename": "MemoryError",
     "evalue": "Unable to allocate 6.38 GiB for an array with shape (3806656, 225) and data type float64",
     "output_type": "error",
     "traceback": [
      "\u001b[31m---------------------------------------------------------------------------\u001b[39m",
      "\u001b[31mMemoryError\u001b[39m                               Traceback (most recent call last)",
      "\u001b[36mCell\u001b[39m\u001b[36m \u001b[39m\u001b[32mIn[4]\u001b[39m\u001b[32m, line 15\u001b[39m\n\u001b[32m      1\u001b[39m \u001b[38;5;66;03m# Fitting a linear mixed effects model\u001b[39;00m\n\u001b[32m      2\u001b[39m model = smf.mixedlm(\n\u001b[32m      3\u001b[39m     \u001b[33m\"\u001b[39m\u001b[33mlog_band_power ~ C(state) * C(task_orientation)\u001b[39m\u001b[33m\"\u001b[39m,\n\u001b[32m      4\u001b[39m     df,\n\u001b[32m   (...)\u001b[39m\u001b[32m     12\u001b[39m     }\n\u001b[32m     13\u001b[39m )\n\u001b[32m---> \u001b[39m\u001b[32m15\u001b[39m result = \u001b[43mmodel\u001b[49m\u001b[43m.\u001b[49m\u001b[43mfit\u001b[49m\u001b[43m(\u001b[49m\u001b[43m)\u001b[49m\n\u001b[32m     16\u001b[39m \u001b[38;5;28mprint\u001b[39m(result.summary())\n",
      "\u001b[36mFile \u001b[39m\u001b[32mc:\\Users\\si_ve\\anaconda3\\envs\\mne\\Lib\\site-packages\\statsmodels\\regression\\mixed_linear_model.py:2191\u001b[39m, in \u001b[36mMixedLM.fit\u001b[39m\u001b[34m(self, start_params, reml, niter_sa, do_cg, fe_pen, cov_pen, free, full_output, method, **fit_kwargs)\u001b[39m\n\u001b[32m   2189\u001b[39m \u001b[38;5;66;03m# Try optimizing one or more times\u001b[39;00m\n\u001b[32m   2190\u001b[39m \u001b[38;5;28;01mfor\u001b[39;00m j \u001b[38;5;129;01min\u001b[39;00m \u001b[38;5;28mrange\u001b[39m(\u001b[38;5;28mlen\u001b[39m(method)):\n\u001b[32m-> \u001b[39m\u001b[32m2191\u001b[39m     rslt = \u001b[38;5;28;43msuper\u001b[39;49m\u001b[43m(\u001b[49m\u001b[43m)\u001b[49m\u001b[43m.\u001b[49m\u001b[43mfit\u001b[49m\u001b[43m(\u001b[49m\u001b[43mstart_params\u001b[49m\u001b[43m=\u001b[49m\u001b[43mpacked\u001b[49m\u001b[43m,\u001b[49m\n\u001b[32m   2192\u001b[39m \u001b[43m                       \u001b[49m\u001b[43mskip_hessian\u001b[49m\u001b[43m=\u001b[49m\u001b[38;5;28;43;01mTrue\u001b[39;49;00m\u001b[43m,\u001b[49m\n\u001b[32m   2193\u001b[39m \u001b[43m                       \u001b[49m\u001b[43mmethod\u001b[49m\u001b[43m=\u001b[49m\u001b[43mmethod\u001b[49m\u001b[43m[\u001b[49m\u001b[43mj\u001b[49m\u001b[43m]\u001b[49m\u001b[43m,\u001b[49m\n\u001b[32m   2194\u001b[39m \u001b[43m                       \u001b[49m\u001b[43m*\u001b[49m\u001b[43m*\u001b[49m\u001b[43mfit_kwargs\u001b[49m\u001b[43m)\u001b[49m\n\u001b[32m   2195\u001b[39m     \u001b[38;5;28;01mif\u001b[39;00m rslt.mle_retvals[\u001b[33m'\u001b[39m\u001b[33mconverged\u001b[39m\u001b[33m'\u001b[39m]:\n\u001b[32m   2196\u001b[39m         \u001b[38;5;28;01mbreak\u001b[39;00m\n",
      "\u001b[36mFile \u001b[39m\u001b[32mc:\\Users\\si_ve\\anaconda3\\envs\\mne\\Lib\\site-packages\\statsmodels\\base\\model.py:566\u001b[39m, in \u001b[36mLikelihoodModel.fit\u001b[39m\u001b[34m(self, start_params, method, maxiter, full_output, disp, fargs, callback, retall, skip_hessian, **kwargs)\u001b[39m\n\u001b[32m    563\u001b[39m     \u001b[38;5;28;01mdel\u001b[39;00m kwargs[\u001b[33m\"\u001b[39m\u001b[33muse_t\u001b[39m\u001b[33m\"\u001b[39m]\n\u001b[32m    565\u001b[39m optimizer = Optimizer()\n\u001b[32m--> \u001b[39m\u001b[32m566\u001b[39m xopt, retvals, optim_settings = \u001b[43moptimizer\u001b[49m\u001b[43m.\u001b[49m\u001b[43m_fit\u001b[49m\u001b[43m(\u001b[49m\u001b[43mf\u001b[49m\u001b[43m,\u001b[49m\u001b[43m \u001b[49m\u001b[43mscore\u001b[49m\u001b[43m,\u001b[49m\u001b[43m \u001b[49m\u001b[43mstart_params\u001b[49m\u001b[43m,\u001b[49m\n\u001b[32m    567\u001b[39m \u001b[43m                                               \u001b[49m\u001b[43mfargs\u001b[49m\u001b[43m,\u001b[49m\u001b[43m \u001b[49m\u001b[43mkwargs\u001b[49m\u001b[43m,\u001b[49m\n\u001b[32m    568\u001b[39m \u001b[43m                                               \u001b[49m\u001b[43mhessian\u001b[49m\u001b[43m=\u001b[49m\u001b[43mhess\u001b[49m\u001b[43m,\u001b[49m\n\u001b[32m    569\u001b[39m \u001b[43m                                               \u001b[49m\u001b[43mmethod\u001b[49m\u001b[43m=\u001b[49m\u001b[43mmethod\u001b[49m\u001b[43m,\u001b[49m\n\u001b[32m    570\u001b[39m \u001b[43m                                               \u001b[49m\u001b[43mdisp\u001b[49m\u001b[43m=\u001b[49m\u001b[43mdisp\u001b[49m\u001b[43m,\u001b[49m\n\u001b[32m    571\u001b[39m \u001b[43m                                               \u001b[49m\u001b[43mmaxiter\u001b[49m\u001b[43m=\u001b[49m\u001b[43mmaxiter\u001b[49m\u001b[43m,\u001b[49m\n\u001b[32m    572\u001b[39m \u001b[43m                                               \u001b[49m\u001b[43mcallback\u001b[49m\u001b[43m=\u001b[49m\u001b[43mcallback\u001b[49m\u001b[43m,\u001b[49m\n\u001b[32m    573\u001b[39m \u001b[43m                                               \u001b[49m\u001b[43mretall\u001b[49m\u001b[43m=\u001b[49m\u001b[43mretall\u001b[49m\u001b[43m,\u001b[49m\n\u001b[32m    574\u001b[39m \u001b[43m                                               \u001b[49m\u001b[43mfull_output\u001b[49m\u001b[43m=\u001b[49m\u001b[43mfull_output\u001b[49m\u001b[43m)\u001b[49m\n\u001b[32m    575\u001b[39m \u001b[38;5;66;03m# Restore cov_type, cov_kwds and use_t\u001b[39;00m\n\u001b[32m    576\u001b[39m optim_settings.update(kwds)\n",
      "\u001b[36mFile \u001b[39m\u001b[32mc:\\Users\\si_ve\\anaconda3\\envs\\mne\\Lib\\site-packages\\statsmodels\\base\\optimizer.py:243\u001b[39m, in \u001b[36mOptimizer._fit\u001b[39m\u001b[34m(self, objective, gradient, start_params, fargs, kwargs, hessian, method, maxiter, full_output, disp, callback, retall)\u001b[39m\n\u001b[32m    240\u001b[39m     fit_funcs.update(extra_fit_funcs)\n\u001b[32m    242\u001b[39m func = fit_funcs[method]\n\u001b[32m--> \u001b[39m\u001b[32m243\u001b[39m xopt, retvals = \u001b[43mfunc\u001b[49m\u001b[43m(\u001b[49m\u001b[43mobjective\u001b[49m\u001b[43m,\u001b[49m\u001b[43m \u001b[49m\u001b[43mgradient\u001b[49m\u001b[43m,\u001b[49m\u001b[43m \u001b[49m\u001b[43mstart_params\u001b[49m\u001b[43m,\u001b[49m\u001b[43m \u001b[49m\u001b[43mfargs\u001b[49m\u001b[43m,\u001b[49m\u001b[43m \u001b[49m\u001b[43mkwargs\u001b[49m\u001b[43m,\u001b[49m\n\u001b[32m    244\u001b[39m \u001b[43m                     \u001b[49m\u001b[43mdisp\u001b[49m\u001b[43m=\u001b[49m\u001b[43mdisp\u001b[49m\u001b[43m,\u001b[49m\u001b[43m \u001b[49m\u001b[43mmaxiter\u001b[49m\u001b[43m=\u001b[49m\u001b[43mmaxiter\u001b[49m\u001b[43m,\u001b[49m\u001b[43m \u001b[49m\u001b[43mcallback\u001b[49m\u001b[43m=\u001b[49m\u001b[43mcallback\u001b[49m\u001b[43m,\u001b[49m\n\u001b[32m    245\u001b[39m \u001b[43m                     \u001b[49m\u001b[43mretall\u001b[49m\u001b[43m=\u001b[49m\u001b[43mretall\u001b[49m\u001b[43m,\u001b[49m\u001b[43m \u001b[49m\u001b[43mfull_output\u001b[49m\u001b[43m=\u001b[49m\u001b[43mfull_output\u001b[49m\u001b[43m,\u001b[49m\n\u001b[32m    246\u001b[39m \u001b[43m                     \u001b[49m\u001b[43mhess\u001b[49m\u001b[43m=\u001b[49m\u001b[43mhessian\u001b[49m\u001b[43m)\u001b[49m\n\u001b[32m    248\u001b[39m optim_settings = {\u001b[33m'\u001b[39m\u001b[33moptimizer\u001b[39m\u001b[33m'\u001b[39m: method, \u001b[33m'\u001b[39m\u001b[33mstart_params\u001b[39m\u001b[33m'\u001b[39m: start_params,\n\u001b[32m    249\u001b[39m                   \u001b[33m'\u001b[39m\u001b[33mmaxiter\u001b[39m\u001b[33m'\u001b[39m: maxiter, \u001b[33m'\u001b[39m\u001b[33mfull_output\u001b[39m\u001b[33m'\u001b[39m: full_output,\n\u001b[32m    250\u001b[39m                   \u001b[33m'\u001b[39m\u001b[33mdisp\u001b[39m\u001b[33m'\u001b[39m: disp, \u001b[33m'\u001b[39m\u001b[33mfargs\u001b[39m\u001b[33m'\u001b[39m: fargs, \u001b[33m'\u001b[39m\u001b[33mcallback\u001b[39m\u001b[33m'\u001b[39m: callback,\n\u001b[32m    251\u001b[39m                   \u001b[33m'\u001b[39m\u001b[33mretall\u001b[39m\u001b[33m'\u001b[39m: retall, \u001b[33m\"\u001b[39m\u001b[33mextra_fit_funcs\u001b[39m\u001b[33m\"\u001b[39m: extra_fit_funcs}\n\u001b[32m    252\u001b[39m optim_settings.update(kwargs)\n",
      "\u001b[36mFile \u001b[39m\u001b[32mc:\\Users\\si_ve\\anaconda3\\envs\\mne\\Lib\\site-packages\\statsmodels\\base\\optimizer.py:538\u001b[39m, in \u001b[36m_fit_bfgs\u001b[39m\u001b[34m(f, score, start_params, fargs, kwargs, disp, maxiter, callback, retall, full_output, hess)\u001b[39m\n\u001b[32m    536\u001b[39m norm = kwargs.setdefault(\u001b[33m'\u001b[39m\u001b[33mnorm\u001b[39m\u001b[33m'\u001b[39m, np.inf)\n\u001b[32m    537\u001b[39m epsilon = kwargs.setdefault(\u001b[33m'\u001b[39m\u001b[33mepsilon\u001b[39m\u001b[33m'\u001b[39m, \u001b[32m1.4901161193847656e-08\u001b[39m)\n\u001b[32m--> \u001b[39m\u001b[32m538\u001b[39m retvals = \u001b[43moptimize\u001b[49m\u001b[43m.\u001b[49m\u001b[43mfmin_bfgs\u001b[49m\u001b[43m(\u001b[49m\u001b[43mf\u001b[49m\u001b[43m,\u001b[49m\u001b[43m \u001b[49m\u001b[43mstart_params\u001b[49m\u001b[43m,\u001b[49m\u001b[43m \u001b[49m\u001b[43mscore\u001b[49m\u001b[43m,\u001b[49m\u001b[43m \u001b[49m\u001b[43margs\u001b[49m\u001b[43m=\u001b[49m\u001b[43mfargs\u001b[49m\u001b[43m,\u001b[49m\n\u001b[32m    539\u001b[39m \u001b[43m                             \u001b[49m\u001b[43mgtol\u001b[49m\u001b[43m=\u001b[49m\u001b[43mgtol\u001b[49m\u001b[43m,\u001b[49m\u001b[43m \u001b[49m\u001b[43mnorm\u001b[49m\u001b[43m=\u001b[49m\u001b[43mnorm\u001b[49m\u001b[43m,\u001b[49m\u001b[43m \u001b[49m\u001b[43mepsilon\u001b[49m\u001b[43m=\u001b[49m\u001b[43mepsilon\u001b[49m\u001b[43m,\u001b[49m\n\u001b[32m    540\u001b[39m \u001b[43m                             \u001b[49m\u001b[43mmaxiter\u001b[49m\u001b[43m=\u001b[49m\u001b[43mmaxiter\u001b[49m\u001b[43m,\u001b[49m\u001b[43m \u001b[49m\u001b[43mfull_output\u001b[49m\u001b[43m=\u001b[49m\u001b[43mfull_output\u001b[49m\u001b[43m,\u001b[49m\n\u001b[32m    541\u001b[39m \u001b[43m                             \u001b[49m\u001b[43mdisp\u001b[49m\u001b[43m=\u001b[49m\u001b[43mdisp\u001b[49m\u001b[43m,\u001b[49m\u001b[43m \u001b[49m\u001b[43mretall\u001b[49m\u001b[43m=\u001b[49m\u001b[43mretall\u001b[49m\u001b[43m,\u001b[49m\u001b[43m \u001b[49m\u001b[43mcallback\u001b[49m\u001b[43m=\u001b[49m\u001b[43mcallback\u001b[49m\u001b[43m)\u001b[49m\n\u001b[32m    542\u001b[39m \u001b[38;5;28;01mif\u001b[39;00m full_output:\n\u001b[32m    543\u001b[39m     \u001b[38;5;28;01mif\u001b[39;00m \u001b[38;5;129;01mnot\u001b[39;00m retall:\n",
      "\u001b[36mFile \u001b[39m\u001b[32mc:\\Users\\si_ve\\anaconda3\\envs\\mne\\Lib\\site-packages\\scipy\\optimize\\_optimize.py:1313\u001b[39m, in \u001b[36mfmin_bfgs\u001b[39m\u001b[34m(f, x0, fprime, args, gtol, norm, epsilon, maxiter, full_output, disp, retall, callback, xrtol, c1, c2, hess_inv0)\u001b[39m\n\u001b[32m   1301\u001b[39m opts = {\u001b[33m'\u001b[39m\u001b[33mgtol\u001b[39m\u001b[33m'\u001b[39m: gtol,\n\u001b[32m   1302\u001b[39m         \u001b[33m'\u001b[39m\u001b[33mnorm\u001b[39m\u001b[33m'\u001b[39m: norm,\n\u001b[32m   1303\u001b[39m         \u001b[33m'\u001b[39m\u001b[33meps\u001b[39m\u001b[33m'\u001b[39m: epsilon,\n\u001b[32m   (...)\u001b[39m\u001b[32m   1309\u001b[39m         \u001b[33m'\u001b[39m\u001b[33mc2\u001b[39m\u001b[33m'\u001b[39m: c2,\n\u001b[32m   1310\u001b[39m         \u001b[33m'\u001b[39m\u001b[33mhess_inv0\u001b[39m\u001b[33m'\u001b[39m: hess_inv0}\n\u001b[32m   1312\u001b[39m callback = _wrap_callback(callback)\n\u001b[32m-> \u001b[39m\u001b[32m1313\u001b[39m res = \u001b[43m_minimize_bfgs\u001b[49m\u001b[43m(\u001b[49m\u001b[43mf\u001b[49m\u001b[43m,\u001b[49m\u001b[43m \u001b[49m\u001b[43mx0\u001b[49m\u001b[43m,\u001b[49m\u001b[43m \u001b[49m\u001b[43margs\u001b[49m\u001b[43m,\u001b[49m\u001b[43m \u001b[49m\u001b[43mfprime\u001b[49m\u001b[43m,\u001b[49m\u001b[43m \u001b[49m\u001b[43mcallback\u001b[49m\u001b[43m=\u001b[49m\u001b[43mcallback\u001b[49m\u001b[43m,\u001b[49m\u001b[43m \u001b[49m\u001b[43m*\u001b[49m\u001b[43m*\u001b[49m\u001b[43mopts\u001b[49m\u001b[43m)\u001b[49m\n\u001b[32m   1315\u001b[39m \u001b[38;5;28;01mif\u001b[39;00m full_output:\n\u001b[32m   1316\u001b[39m     retlist = (res[\u001b[33m'\u001b[39m\u001b[33mx\u001b[39m\u001b[33m'\u001b[39m], res[\u001b[33m'\u001b[39m\u001b[33mfun\u001b[39m\u001b[33m'\u001b[39m], res[\u001b[33m'\u001b[39m\u001b[33mjac\u001b[39m\u001b[33m'\u001b[39m], res[\u001b[33m'\u001b[39m\u001b[33mhess_inv\u001b[39m\u001b[33m'\u001b[39m],\n\u001b[32m   1317\u001b[39m                res[\u001b[33m'\u001b[39m\u001b[33mnfev\u001b[39m\u001b[33m'\u001b[39m], res[\u001b[33m'\u001b[39m\u001b[33mnjev\u001b[39m\u001b[33m'\u001b[39m], res[\u001b[33m'\u001b[39m\u001b[33mstatus\u001b[39m\u001b[33m'\u001b[39m])\n",
      "\u001b[36mFile \u001b[39m\u001b[32mc:\\Users\\si_ve\\anaconda3\\envs\\mne\\Lib\\site-packages\\scipy\\optimize\\_optimize.py:1393\u001b[39m, in \u001b[36m_minimize_bfgs\u001b[39m\u001b[34m(fun, x0, args, jac, callback, gtol, norm, eps, maxiter, disp, return_all, finite_diff_rel_step, xrtol, c1, c2, hess_inv0, **unknown_options)\u001b[39m\n\u001b[32m   1390\u001b[39m \u001b[38;5;28;01mif\u001b[39;00m maxiter \u001b[38;5;129;01mis\u001b[39;00m \u001b[38;5;28;01mNone\u001b[39;00m:\n\u001b[32m   1391\u001b[39m     maxiter = \u001b[38;5;28mlen\u001b[39m(x0) * \u001b[32m200\u001b[39m\n\u001b[32m-> \u001b[39m\u001b[32m1393\u001b[39m sf = \u001b[43m_prepare_scalar_function\u001b[49m\u001b[43m(\u001b[49m\u001b[43mfun\u001b[49m\u001b[43m,\u001b[49m\u001b[43m \u001b[49m\u001b[43mx0\u001b[49m\u001b[43m,\u001b[49m\u001b[43m \u001b[49m\u001b[43mjac\u001b[49m\u001b[43m,\u001b[49m\u001b[43m \u001b[49m\u001b[43margs\u001b[49m\u001b[43m=\u001b[49m\u001b[43margs\u001b[49m\u001b[43m,\u001b[49m\u001b[43m \u001b[49m\u001b[43mepsilon\u001b[49m\u001b[43m=\u001b[49m\u001b[43meps\u001b[49m\u001b[43m,\u001b[49m\n\u001b[32m   1394\u001b[39m \u001b[43m                              \u001b[49m\u001b[43mfinite_diff_rel_step\u001b[49m\u001b[43m=\u001b[49m\u001b[43mfinite_diff_rel_step\u001b[49m\u001b[43m)\u001b[49m\n\u001b[32m   1396\u001b[39m f = sf.fun\n\u001b[32m   1397\u001b[39m myfprime = sf.grad\n",
      "\u001b[36mFile \u001b[39m\u001b[32mc:\\Users\\si_ve\\anaconda3\\envs\\mne\\Lib\\site-packages\\scipy\\optimize\\_optimize.py:291\u001b[39m, in \u001b[36m_prepare_scalar_function\u001b[39m\u001b[34m(fun, x0, jac, args, bounds, epsilon, finite_diff_rel_step, hess)\u001b[39m\n\u001b[32m    287\u001b[39m     bounds = (-np.inf, np.inf)\n\u001b[32m    289\u001b[39m \u001b[38;5;66;03m# ScalarFunction caches. Reuse of fun(x) during grad\u001b[39;00m\n\u001b[32m    290\u001b[39m \u001b[38;5;66;03m# calculation reduces overall function evaluations.\u001b[39;00m\n\u001b[32m--> \u001b[39m\u001b[32m291\u001b[39m sf = \u001b[43mScalarFunction\u001b[49m\u001b[43m(\u001b[49m\u001b[43mfun\u001b[49m\u001b[43m,\u001b[49m\u001b[43m \u001b[49m\u001b[43mx0\u001b[49m\u001b[43m,\u001b[49m\u001b[43m \u001b[49m\u001b[43margs\u001b[49m\u001b[43m,\u001b[49m\u001b[43m \u001b[49m\u001b[43mgrad\u001b[49m\u001b[43m,\u001b[49m\u001b[43m \u001b[49m\u001b[43mhess\u001b[49m\u001b[43m,\u001b[49m\n\u001b[32m    292\u001b[39m \u001b[43m                    \u001b[49m\u001b[43mfinite_diff_rel_step\u001b[49m\u001b[43m,\u001b[49m\u001b[43m \u001b[49m\u001b[43mbounds\u001b[49m\u001b[43m,\u001b[49m\u001b[43m \u001b[49m\u001b[43mepsilon\u001b[49m\u001b[43m=\u001b[49m\u001b[43mepsilon\u001b[49m\u001b[43m)\u001b[49m\n\u001b[32m    294\u001b[39m \u001b[38;5;28;01mreturn\u001b[39;00m sf\n",
      "\u001b[36mFile \u001b[39m\u001b[32mc:\\Users\\si_ve\\anaconda3\\envs\\mne\\Lib\\site-packages\\scipy\\optimize\\_differentiable_functions.py:232\u001b[39m, in \u001b[36mScalarFunction.__init__\u001b[39m\u001b[34m(self, fun, x0, args, grad, hess, finite_diff_rel_step, finite_diff_bounds, epsilon)\u001b[39m\n\u001b[32m    225\u001b[39m \u001b[38;5;66;03m# Initial gradient evaluation\u001b[39;00m\n\u001b[32m    226\u001b[39m \u001b[38;5;28mself\u001b[39m._wrapped_grad, \u001b[38;5;28mself\u001b[39m._ngev = _wrapper_grad(\n\u001b[32m    227\u001b[39m     grad,\n\u001b[32m    228\u001b[39m     fun=\u001b[38;5;28mself\u001b[39m._wrapped_fun,\n\u001b[32m    229\u001b[39m     args=args,\n\u001b[32m    230\u001b[39m     finite_diff_options=finite_diff_options\n\u001b[32m    231\u001b[39m )\n\u001b[32m--> \u001b[39m\u001b[32m232\u001b[39m \u001b[38;5;28;43mself\u001b[39;49m\u001b[43m.\u001b[49m\u001b[43m_update_grad\u001b[49m\u001b[43m(\u001b[49m\u001b[43m)\u001b[49m\n\u001b[32m    234\u001b[39m \u001b[38;5;66;03m# Hessian evaluation\u001b[39;00m\n\u001b[32m    235\u001b[39m \u001b[38;5;28;01mif\u001b[39;00m \u001b[38;5;28mcallable\u001b[39m(hess):\n",
      "\u001b[36mFile \u001b[39m\u001b[32mc:\\Users\\si_ve\\anaconda3\\envs\\mne\\Lib\\site-packages\\scipy\\optimize\\_differentiable_functions.py:307\u001b[39m, in \u001b[36mScalarFunction._update_grad\u001b[39m\u001b[34m(self)\u001b[39m\n\u001b[32m    305\u001b[39m \u001b[38;5;28;01mif\u001b[39;00m \u001b[38;5;28mself\u001b[39m._orig_grad \u001b[38;5;129;01min\u001b[39;00m FD_METHODS:\n\u001b[32m    306\u001b[39m     \u001b[38;5;28mself\u001b[39m._update_fun()\n\u001b[32m--> \u001b[39m\u001b[32m307\u001b[39m \u001b[38;5;28mself\u001b[39m.g = \u001b[38;5;28;43mself\u001b[39;49m\u001b[43m.\u001b[49m\u001b[43m_wrapped_grad\u001b[49m\u001b[43m(\u001b[49m\u001b[38;5;28;43mself\u001b[39;49m\u001b[43m.\u001b[49m\u001b[43mx\u001b[49m\u001b[43m,\u001b[49m\u001b[43m \u001b[49m\u001b[43mf0\u001b[49m\u001b[43m=\u001b[49m\u001b[38;5;28;43mself\u001b[39;49m\u001b[43m.\u001b[49m\u001b[43mf\u001b[49m\u001b[43m)\u001b[49m\n\u001b[32m    308\u001b[39m \u001b[38;5;28mself\u001b[39m.g_updated = \u001b[38;5;28;01mTrue\u001b[39;00m\n",
      "\u001b[36mFile \u001b[39m\u001b[32mc:\\Users\\si_ve\\anaconda3\\envs\\mne\\Lib\\site-packages\\scipy\\optimize\\_differentiable_functions.py:42\u001b[39m, in \u001b[36m_wrapper_grad.<locals>.wrapped\u001b[39m\u001b[34m(x, **kwds)\u001b[39m\n\u001b[32m     39\u001b[39m \u001b[38;5;28;01mdef\u001b[39;00m\u001b[38;5;250m \u001b[39m\u001b[34mwrapped\u001b[39m(x, **kwds):\n\u001b[32m     40\u001b[39m     \u001b[38;5;66;03m# kwds present to give function same signature as numdiff variant\u001b[39;00m\n\u001b[32m     41\u001b[39m     ncalls[\u001b[32m0\u001b[39m] += \u001b[32m1\u001b[39m\n\u001b[32m---> \u001b[39m\u001b[32m42\u001b[39m     \u001b[38;5;28;01mreturn\u001b[39;00m np.atleast_1d(\u001b[43mgrad\u001b[49m\u001b[43m(\u001b[49m\u001b[43mnp\u001b[49m\u001b[43m.\u001b[49m\u001b[43mcopy\u001b[49m\u001b[43m(\u001b[49m\u001b[43mx\u001b[49m\u001b[43m)\u001b[49m\u001b[43m,\u001b[49m\u001b[43m \u001b[49m\u001b[43m*\u001b[49m\u001b[43margs\u001b[49m\u001b[43m)\u001b[49m)\n",
      "\u001b[36mFile \u001b[39m\u001b[32mc:\\Users\\si_ve\\anaconda3\\envs\\mne\\Lib\\site-packages\\statsmodels\\base\\model.py:545\u001b[39m, in \u001b[36mLikelihoodModel.fit.<locals>.score\u001b[39m\u001b[34m(params, *args)\u001b[39m\n\u001b[32m    544\u001b[39m \u001b[38;5;28;01mdef\u001b[39;00m\u001b[38;5;250m \u001b[39m\u001b[34mscore\u001b[39m(params, *args):\n\u001b[32m--> \u001b[39m\u001b[32m545\u001b[39m     \u001b[38;5;28;01mreturn\u001b[39;00m -\u001b[38;5;28;43mself\u001b[39;49m\u001b[43m.\u001b[49m\u001b[43mscore\u001b[49m\u001b[43m(\u001b[49m\u001b[43mparams\u001b[49m\u001b[43m,\u001b[49m\u001b[43m \u001b[49m\u001b[43m*\u001b[49m\u001b[43margs\u001b[49m\u001b[43m)\u001b[49m / nobs\n",
      "\u001b[36mFile \u001b[39m\u001b[32mc:\\Users\\si_ve\\anaconda3\\envs\\mne\\Lib\\site-packages\\statsmodels\\regression\\mixed_linear_model.py:1637\u001b[39m, in \u001b[36mMixedLM.score\u001b[39m\u001b[34m(self, params, profile_fe)\u001b[39m\n\u001b[32m   1634\u001b[39m         warnings.warn(msg)\n\u001b[32m   1636\u001b[39m \u001b[38;5;28;01mif\u001b[39;00m \u001b[38;5;28mself\u001b[39m.use_sqrt:\n\u001b[32m-> \u001b[39m\u001b[32m1637\u001b[39m     score_fe, score_re, score_vc = \u001b[38;5;28;43mself\u001b[39;49m\u001b[43m.\u001b[49m\u001b[43mscore_sqrt\u001b[49m\u001b[43m(\u001b[49m\n\u001b[32m   1638\u001b[39m \u001b[43m        \u001b[49m\u001b[43mparams\u001b[49m\u001b[43m,\u001b[49m\u001b[43m \u001b[49m\u001b[43mcalc_fe\u001b[49m\u001b[43m=\u001b[49m\u001b[38;5;129;43;01mnot\u001b[39;49;00m\u001b[43m \u001b[49m\u001b[43mprofile_fe\u001b[49m\u001b[43m)\u001b[49m\n\u001b[32m   1639\u001b[39m \u001b[38;5;28;01melse\u001b[39;00m:\n\u001b[32m   1640\u001b[39m     score_fe, score_re, score_vc = \u001b[38;5;28mself\u001b[39m.score_full(\n\u001b[32m   1641\u001b[39m         params, calc_fe=\u001b[38;5;129;01mnot\u001b[39;00m profile_fe)\n",
      "\u001b[36mFile \u001b[39m\u001b[32mc:\\Users\\si_ve\\anaconda3\\envs\\mne\\Lib\\site-packages\\statsmodels\\regression\\mixed_linear_model.py:1840\u001b[39m, in \u001b[36mMixedLM.score_sqrt\u001b[39m\u001b[34m(self, params, calc_fe)\u001b[39m\n\u001b[32m   1809\u001b[39m \u001b[38;5;28;01mdef\u001b[39;00m\u001b[38;5;250m \u001b[39m\u001b[34mscore_sqrt\u001b[39m(\u001b[38;5;28mself\u001b[39m, params, calc_fe=\u001b[38;5;28;01mTrue\u001b[39;00m):\n\u001b[32m   1810\u001b[39m \u001b[38;5;250m    \u001b[39m\u001b[33;03m\"\"\"\u001b[39;00m\n\u001b[32m   1811\u001b[39m \u001b[33;03m    Returns the score with respect to transformed parameters.\u001b[39;00m\n\u001b[32m   1812\u001b[39m \n\u001b[32m   (...)\u001b[39m\u001b[32m   1837\u001b[39m \u001b[33;03m        parameters.\u001b[39;00m\n\u001b[32m   1838\u001b[39m \u001b[33;03m    \"\"\"\u001b[39;00m\n\u001b[32m-> \u001b[39m\u001b[32m1840\u001b[39m     score_fe, score_re, score_vc = \u001b[38;5;28;43mself\u001b[39;49m\u001b[43m.\u001b[49m\u001b[43mscore_full\u001b[49m\u001b[43m(\u001b[49m\u001b[43mparams\u001b[49m\u001b[43m,\u001b[49m\u001b[43m \u001b[49m\u001b[43mcalc_fe\u001b[49m\u001b[43m=\u001b[49m\u001b[43mcalc_fe\u001b[49m\u001b[43m)\u001b[49m\n\u001b[32m   1841\u001b[39m     params_vec = params.get_packed(use_sqrt=\u001b[38;5;28;01mTrue\u001b[39;00m, has_fe=\u001b[38;5;28;01mTrue\u001b[39;00m)\n\u001b[32m   1843\u001b[39m     score_full = np.concatenate((score_fe, score_re, score_vc))\n",
      "\u001b[36mFile \u001b[39m\u001b[32mc:\\Users\\si_ve\\anaconda3\\envs\\mne\\Lib\\site-packages\\statsmodels\\regression\\mixed_linear_model.py:1755\u001b[39m, in \u001b[36mMixedLM.score_full\u001b[39m\u001b[34m(self, params, calc_fe)\u001b[39m\n\u001b[32m   1753\u001b[39m \u001b[38;5;66;03m# Contributions to the covariance parameter gradient\u001b[39;00m\n\u001b[32m   1754\u001b[39m vir = solver(resid)\n\u001b[32m-> \u001b[39m\u001b[32m1755\u001b[39m \u001b[43m\u001b[49m\u001b[38;5;28;43;01mfor\u001b[39;49;00m\u001b[43m \u001b[49m\u001b[43m(\u001b[49m\u001b[43mjj\u001b[49m\u001b[43m,\u001b[49m\u001b[43m \u001b[49m\u001b[43mmatl\u001b[49m\u001b[43m,\u001b[49m\u001b[43m \u001b[49m\u001b[43mmatr\u001b[49m\u001b[43m,\u001b[49m\u001b[43m \u001b[49m\u001b[43mvsl\u001b[49m\u001b[43m,\u001b[49m\u001b[43m \u001b[49m\u001b[43mvsr\u001b[49m\u001b[43m,\u001b[49m\u001b[43m \u001b[49m\u001b[43msym\u001b[49m\u001b[43m)\u001b[49m\u001b[43m \u001b[49m\u001b[38;5;129;43;01min\u001b[39;49;00m\u001b[43m\\\u001b[49m\n\u001b[32m   1756\u001b[39m \u001b[43m        \u001b[49m\u001b[38;5;28;43mself\u001b[39;49m\u001b[43m.\u001b[49m\u001b[43m_gen_dV_dPar\u001b[49m\u001b[43m(\u001b[49m\u001b[43mex_r\u001b[49m\u001b[43m,\u001b[49m\u001b[43m \u001b[49m\u001b[43msolver\u001b[49m\u001b[43m,\u001b[49m\u001b[43m \u001b[49m\u001b[43mgroup_ix\u001b[49m\u001b[43m)\u001b[49m\u001b[43m:\u001b[49m\n\u001b[32m   1757\u001b[39m \u001b[43m    \u001b[49m\u001b[43mdlv\u001b[49m\u001b[43m[\u001b[49m\u001b[43mjj\u001b[49m\u001b[43m]\u001b[49m\u001b[43m \u001b[49m\u001b[43m=\u001b[49m\u001b[43m \u001b[49m\u001b[43m_dotsum\u001b[49m\u001b[43m(\u001b[49m\u001b[43mmatr\u001b[49m\u001b[43m,\u001b[49m\u001b[43m \u001b[49m\u001b[43mvsl\u001b[49m\u001b[43m)\u001b[49m\n\u001b[32m   1758\u001b[39m \u001b[43m    \u001b[49m\u001b[38;5;28;43;01mif\u001b[39;49;00m\u001b[43m \u001b[49m\u001b[38;5;129;43;01mnot\u001b[39;49;00m\u001b[43m \u001b[49m\u001b[43msym\u001b[49m\u001b[43m:\u001b[49m\n",
      "\u001b[36mFile \u001b[39m\u001b[32mc:\\Users\\si_ve\\anaconda3\\envs\\mne\\Lib\\site-packages\\statsmodels\\regression\\mixed_linear_model.py:1589\u001b[39m, in \u001b[36mMixedLM._gen_dV_dPar\u001b[39m\u001b[34m(self, ex_r, solver, group_ix, max_ix)\u001b[39m\n\u001b[32m   1571\u001b[39m \u001b[38;5;28;01mdef\u001b[39;00m\u001b[38;5;250m \u001b[39m\u001b[34m_gen_dV_dPar\u001b[39m(\u001b[38;5;28mself\u001b[39m, ex_r, solver, group_ix, max_ix=\u001b[38;5;28;01mNone\u001b[39;00m):\n\u001b[32m   1572\u001b[39m \u001b[38;5;250m    \u001b[39m\u001b[33;03m\"\"\"\u001b[39;00m\n\u001b[32m   1573\u001b[39m \u001b[33;03m    A generator that yields the element-wise derivative of the\u001b[39;00m\n\u001b[32m   1574\u001b[39m \u001b[33;03m    marginal covariance matrix with respect to the random effects\u001b[39;00m\n\u001b[32m   (...)\u001b[39m\u001b[32m   1586\u001b[39m \u001b[33;03m        is reached.\u001b[39;00m\n\u001b[32m   1587\u001b[39m \u001b[33;03m    \"\"\"\u001b[39;00m\n\u001b[32m-> \u001b[39m\u001b[32m1589\u001b[39m     axr = \u001b[43msolver\u001b[49m\u001b[43m(\u001b[49m\u001b[43mex_r\u001b[49m\u001b[43m)\u001b[49m\n\u001b[32m   1591\u001b[39m     \u001b[38;5;66;03m# Regular random effects\u001b[39;00m\n\u001b[32m   1592\u001b[39m     jj = \u001b[32m0\u001b[39m\n",
      "\u001b[36mFile \u001b[39m\u001b[32mc:\\Users\\si_ve\\anaconda3\\envs\\mne\\Lib\\site-packages\\statsmodels\\regression\\mixed_linear_model.py:508\u001b[39m, in \u001b[36m_smw_solver.<locals>.solver\u001b[39m\u001b[34m(rhs)\u001b[39m\n\u001b[32m    506\u001b[39m ql = np.dot(qmati, rhs)\n\u001b[32m    507\u001b[39m ql = np.dot(A, ql)\n\u001b[32m--> \u001b[39m\u001b[32m508\u001b[39m \u001b[38;5;28;01mreturn\u001b[39;00m \u001b[43mrhs\u001b[49m\u001b[43m \u001b[49m\u001b[43m/\u001b[49m\u001b[43m \u001b[49m\u001b[43ms\u001b[49m - ql / s**\u001b[32m2\u001b[39m\n",
      "\u001b[31mMemoryError\u001b[39m: Unable to allocate 6.38 GiB for an array with shape (3806656, 225) and data type float64"
     ]
    }
   ],
   "source": [
    "# Fitting a linear mixed effects model\n",
    "model = smf.mixedlm(\n",
    "    \"log_band_power ~ C(state) * C(task_orientation)\",\n",
    "    df,\n",
    "    groups=df[\"dataset\"],\n",
    "    re_formula=\"1\",  # Random intercept per dataset\n",
    "    vc_formula={\n",
    "        \"subject\": \"0 + C(subject_id)\",\n",
    "        \"session\": \"0 + C(session_id)\",\n",
    "        \"channel\": \"0 + C(channel)\",\n",
    "        \"channel_state\": \"0 + C(channel):C(state)\"\n",
    "    }\n",
    ")\n",
    "\n",
    "result = model.fit()\n",
    "print(result.summary())"
   ]
  }
 ],
 "metadata": {
  "kernelspec": {
   "display_name": "mne",
   "language": "python",
   "name": "python3"
  },
  "language_info": {
   "codemirror_mode": {
    "name": "ipython",
    "version": 3
   },
   "file_extension": ".py",
   "mimetype": "text/x-python",
   "name": "python",
   "nbconvert_exporter": "python",
   "pygments_lexer": "ipython3",
   "version": "3.11.11"
  }
 },
 "nbformat": 4,
 "nbformat_minor": 5
}
