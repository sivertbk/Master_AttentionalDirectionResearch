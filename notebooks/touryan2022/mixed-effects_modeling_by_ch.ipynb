{
 "cells": [
  {
   "cell_type": "markdown",
   "id": "01b70873",
   "metadata": {},
   "source": [
    "### **Organize PSD Data**\n",
    "\n",
    "- [ ]  Ensure all power spectral data (PSD) is saved per **subject-session** in a consistent format:\n",
    "    - One file or object per subject-session\n",
    "    - Contains:\n",
    "        - EEG **channels**\n",
    "        - **Frequencies**\n",
    "        - Power per **epoch** or pre-averaged by condition\n",
    "    - Associated **metadata**:\n",
    "        - Subject ID\n",
    "        - Session ID \n",
    "        - Dataset name\n",
    "        - Cognitive **state label** (OT, MW)"
   ]
  },
  {
   "cell_type": "markdown",
   "id": "f04642cb",
   "metadata": {},
   "source": [
    "### **Extract Alpha Power**\n",
    "\n",
    "- [ ]  For each subject-session\n",
    "    - Select **8–12 Hz** frequency band\n",
    "    - **Sum power across frequencies** per channel and epoch\n",
    "- [ ]  Result per epoch:\n",
    "\n",
    "```python\n",
    "{\n",
    "    \"subject_id\": \"001\",\n",
    "    \"session_id\": \"1\",\n",
    "    \"channel\": \"Pz\",\n",
    "    \"state\": \"MW\",\n",
    "    \"alpha_power\": 3.45,\n",
    "    ...\n",
    "}\n",
    "```"
   ]
  },
  {
   "cell_type": "markdown",
   "id": "6471d8d1",
   "metadata": {},
   "source": [
    "### **Assign Numerical Condition Labels**\n",
    "\n",
    "For modeling the *ordinal direction* of alpha power:\n",
    "\n",
    "| State | Code |\n",
    "| --- | --- |\n",
    "| OT | 0 |\n",
    "| MW | 1 |\n",
    "| MED | 2 |\n",
    "- [ ]  For **Jin** and **Touryan**, you only use codes `0` and `1` (OT, MW)\n",
    "- [ ]  For **Braboszcz**, use codes `1` and `2` (MW, MED)"
   ]
  },
  {
   "cell_type": "markdown",
   "id": "cc890301",
   "metadata": {},
   "source": [
    "### **Create Long-Form DataFrame per Dataset**\n",
    "\n",
    "For each dataset, prepare:\n",
    "| subject_session | subject_id | group | channel/ROI | state | alpha_power |\n",
    "| --- | --- | --- | --- | --- | --- |\n",
    "| 001_1 | 001 | NaN | Pz | 0 | 3.24 |\n",
    "| 001_1 | 001 | NaN | Pz | 1 | 3.88 |\n",
    "| 060_1 | 060 | vip | Pz | 1 | 5.12 |\n",
    "| 060_1 | 060 | vip | Pz | 2 | 6.00 |"
   ]
  },
  {
   "cell_type": "markdown",
   "id": "5b9b28d1",
   "metadata": {},
   "source": [
    "### **Fit Mixed Effects Model per Channel**\n",
    "\n",
    "Do this **separately for each dataset** and for each channel (or ROI):\n",
    "\n",
    "### ✅ Model formula:\n",
    "\n",
    "```python\n",
    "alpha_power ~ state + (state | subject_session)\n",
    "```\n",
    "\n",
    "This:\n",
    "\n",
    "- Estimates the effect of `state` (e.g., OT → MW or MW → MED)\n",
    "- Models per-subject variability in both baseline (intercept) and sensitivity (slope)"
   ]
  },
  {
   "cell_type": "markdown",
   "id": "80507fd0",
   "metadata": {},
   "source": [
    "### **Store & Summarize Results**\n",
    "\n",
    "For each model/channel:\n",
    "\n",
    "- [ ]  Store:\n",
    "    - Fixed effect estimate for `state`\n",
    "    - p-value\n",
    "    - t-statistic (optional)\n",
    "    - Number of subjects included\n",
    "- [ ]  Save results to `.csv` or `.json`"
   ]
  },
  {
   "cell_type": "markdown",
   "id": "9d1bac86",
   "metadata": {},
   "source": [
    "### **Visualize Results**\n",
    "\n",
    "- [ ]  Plot per-channel **bar plots** or **line plots** of alpha power by condition\n",
    "- [ ]  Plot **topoplots** (scalp maps) of:\n",
    "    - `state` slope per channel\n",
    "    - p-values (FDR-corrected or raw, with masking)\n",
    "    - t-values"
   ]
  },
  {
   "cell_type": "markdown",
   "id": "a64a3217",
   "metadata": {},
   "source": [
    "### **Correct for Multiple Comparisons**\n",
    "\n",
    "- [ ]  Across channels (e.g., for scalp maps), correct p-values using:\n",
    "    - **False Discovery Rate (FDR)**\n",
    "    - Or **cluster-based permutation test** if possible"
   ]
  },
  {
   "cell_type": "markdown",
   "id": "3d346df7",
   "metadata": {},
   "source": [
    "### **Filter Low-Effect Subjects**\n",
    "\n",
    "- [ ]  Compute within-subject effect sizes (e.g., Cohen’s *d*) between states\n",
    "- [ ]  Re-run the model excluding sessions with **d < 0.5**\n",
    "- [ ]  Compare results to check robustness"
   ]
  },
  {
   "cell_type": "markdown",
   "id": "9f940bc3",
   "metadata": {},
   "source": []
  }
 ],
 "metadata": {
  "language_info": {
   "name": "python"
  }
 },
 "nbformat": 4,
 "nbformat_minor": 5
}
