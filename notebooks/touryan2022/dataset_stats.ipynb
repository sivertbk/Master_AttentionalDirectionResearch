{
 "cells": [
  {
   "cell_type": "markdown",
   "id": "a2c665a4",
   "metadata": {},
   "source": [
    "**For Each Dataset (braboszcz2017, jin2019, touryan2022), provide:**\n",
    "\n",
    "Subjects:\n",
    "\n",
    "- How many participants?\n",
    "\n",
    "- Are they the same across tasks (if multiple tasks exist)?\n",
    "\n",
    "Tasks:\n",
    "\n",
    "- List the tasks used.\n",
    "\n",
    "- Is the cognitive state comparison done within the same task or across tasks?\n",
    "\n",
    "Cognitive States Compared:\n",
    "\n",
    "- What are the two cognitive states (e.g., focused, mind-wandering)?\n",
    "\n",
    "- How are they defined or inferred (e.g., self-reports, probes, behavioral metrics)?\n",
    "\n",
    "Epochs/Trials:\n",
    "\n",
    "-  Do you have trial-level data (e.g., multiple epochs per condition per subject)?\n",
    "\n",
    "- Are the number of epochs per condition balanced?\n",
    "\n",
    "Signal Features:\n",
    "\n",
    "- What data are you comparing? (e.g., alpha-band power, broadband power, ERPs)\n",
    "\n",
    "- Are the features already averaged or trial-level?\n",
    "\n",
    "Subject-level pairing:\n",
    "\n",
    "- For each subject, do you have observations from both cognitive states?"
   ]
  },
  {
   "cell_type": "code",
   "execution_count": 1,
   "id": "aa0fefd0",
   "metadata": {},
   "outputs": [
    {
     "name": "stdout",
     "output_type": "stream",
     "text": [
      "Dataset: Touryan et al. (2022)\n",
      " Subjects:\n",
      "    - 20 subjects, 0 groups: []\n",
      " Tasks:\n",
      "    - police_detection, collision\n",
      " States:\n",
      "    - MW, OT\n",
      " Epochs:\n",
      "    - Median epochs per condition: [police_detection - OT: 19.0, collision - MW: 2.0, collision - OT: 2.0, police_detection - MW: 2.0]\n",
      "    - Min epochs per condition: [police_detection - OT: 11, collision - MW: 1, collision - OT: 1, police_detection - MW: 1]\n",
      "    - Max epochs per condition: [police_detection - OT: 25, collision - MW: 3, collision - OT: 3, police_detection - MW: 6]\n",
      "    - State ratios: mean:0.128, min:0.000 (subject_id: 09), max:0.583 (subject_id: 21)\n"
     ]
    }
   ],
   "source": [
    "from utils.config import DATASETS\n",
    "from eeg_analyzer.dataset import Dataset\n",
    "\n",
    "dataset_config = DATASETS['touryan2022']\n",
    "dataset = Dataset(dataset_config)\n",
    "dataset.load_subjects()\n",
    "\n",
    "# provide subject info\n",
    "print(dataset)"
   ]
  },
  {
   "cell_type": "markdown",
   "id": "5c42edcc",
   "metadata": {},
   "source": [
    "**Visualize the state ratio for all subjects**"
   ]
  },
  {
   "cell_type": "code",
   "execution_count": 5,
   "id": "4933044a",
   "metadata": {},
   "outputs": [
    {
     "name": "stdout",
     "output_type": "stream",
     "text": [
      "Subject 01: 0.13043478260869565\n",
      "Epochs for Subject 01: {('police_detection', 'OT'): 20, ('collision', 'MW'): 3, ('collision', 'OT'): 3}\n",
      "\n",
      "\n",
      "Subject 02: 0.08\n",
      "Epochs for Subject 02: {('police_detection', 'MW'): 2, ('police_detection', 'OT'): 25}\n",
      "\n",
      "\n",
      "Subject 03: 0.1\n",
      "Epochs for Subject 03: {('police_detection', 'OT'): 18, ('collision', 'MW'): 2, ('collision', 'OT'): 2}\n",
      "\n",
      "\n",
      "Subject 04: 0.3333333333333333\n",
      "Epochs for Subject 04: {('police_detection', 'MW'): 5, ('police_detection', 'OT'): 19, ('collision', 'MW'): 2, ('collision', 'OT'): 2}\n",
      "\n",
      "\n",
      "Subject 05: 0.06666666666666667\n",
      "Epochs for Subject 05: {('police_detection', 'MW'): 1, ('police_detection', 'OT'): 15}\n",
      "\n",
      "\n",
      "Subject 06: 0.058823529411764705\n",
      "Epochs for Subject 06: {('police_detection', 'MW'): 1, ('police_detection', 'OT'): 16, ('collision', 'OT'): 1}\n",
      "\n",
      "\n",
      "Subject 07: 0.17647058823529413\n",
      "Epochs for Subject 07: {('police_detection', 'MW'): 3, ('police_detection', 'OT'): 17}\n",
      "\n",
      "\n",
      "Subject 08: 0.08333333333333333\n",
      "Epochs for Subject 08: {('police_detection', 'MW'): 1, ('police_detection', 'OT'): 12}\n",
      "\n",
      "\n",
      "Subject 09: 0.0\n",
      "Epochs for Subject 09: {('police_detection', 'OT'): 18}\n",
      "\n",
      "\n",
      "Subject 11: 0.09090909090909091\n",
      "Epochs for Subject 11: {('police_detection', 'MW'): 2, ('police_detection', 'OT'): 22}\n",
      "\n",
      "\n",
      "Subject 12: 0.08695652173913043\n",
      "Epochs for Subject 12: {('police_detection', 'OT'): 21, ('collision', 'MW'): 2, ('collision', 'OT'): 2}\n",
      "\n",
      "\n",
      "Subject 13: 0.045454545454545456\n",
      "Epochs for Subject 13: {('police_detection', 'MW'): 1, ('police_detection', 'OT'): 22}\n",
      "\n",
      "\n",
      "Subject 14: 0.1\n",
      "Epochs for Subject 14: {('police_detection', 'OT'): 18, ('collision', 'MW'): 2, ('collision', 'OT'): 2}\n",
      "\n",
      "\n",
      "Subject 15: 0.2727272727272727\n",
      "Epochs for Subject 15: {('police_detection', 'MW'): 6, ('police_detection', 'OT'): 22}\n",
      "\n",
      "\n",
      "Subject 16: 0.047619047619047616\n",
      "Epochs for Subject 16: {('police_detection', 'OT'): 20, ('collision', 'MW'): 1, ('collision', 'OT'): 1}\n",
      "\n",
      "\n",
      "Subject 17: 0.1\n",
      "Epochs for Subject 17: {('police_detection', 'MW'): 2, ('police_detection', 'OT'): 20}\n",
      "\n",
      "\n",
      "Subject 18: 0.0\n",
      "Epochs for Subject 18: {('police_detection', 'OT'): 19}\n",
      "\n",
      "\n",
      "Subject 19: 0.09090909090909091\n",
      "Epochs for Subject 19: {('police_detection', 'MW'): 1, ('police_detection', 'OT'): 21, ('collision', 'MW'): 1, ('collision', 'OT'): 1}\n",
      "\n",
      "\n",
      "Subject 20: 0.10526315789473684\n",
      "Epochs for Subject 20: {('police_detection', 'OT'): 17, ('collision', 'MW'): 2, ('collision', 'OT'): 2}\n",
      "\n",
      "\n",
      "Subject 21: 0.5833333333333334\n",
      "Epochs for Subject 21: {('police_detection', 'MW'): 6, ('police_detection', 'OT'): 11, ('collision', 'MW'): 1, ('collision', 'OT'): 1}\n",
      "\n",
      "\n"
     ]
    }
   ],
   "source": [
    "# show the state ratio for all subjects\n",
    "for subject_id in dataset.subject_IDs:\n",
    "    print(f\"Subject {subject_id}: {dataset.get_state_ratio(subject_id)}\")\n",
    "    print(f\"Epochs for Subject {subject_id}: {dataset.get_epochs_per_condition(subject_id)}\")\n",
    "    print(\"\\n\")"
   ]
  },
  {
   "cell_type": "code",
   "execution_count": 7,
   "id": "f1a4f9cf",
   "metadata": {},
   "outputs": [
    {
     "name": "stdout",
     "output_type": "stream",
     "text": [
      "Subject 01: 0.13043478260869565\n",
      "Subject 04: 0.3333333333333333\n",
      "Subject 07: 0.17647058823529413\n",
      "Subject 15: 0.2727272727272727\n",
      "Subject 21: 0.5833333333333334\n"
     ]
    }
   ],
   "source": [
    "# Provide all subjects with a state ratio r>0.25\n",
    "for subject_id in dataset.subject_IDs:\n",
    "    state_ratio = dataset.get_state_ratio(subject_id)\n",
    "    if state_ratio > 1/9:\n",
    "        print(f\"Subject {subject_id}: {state_ratio}\")"
   ]
  }
 ],
 "metadata": {
  "kernelspec": {
   "display_name": "mne",
   "language": "python",
   "name": "python3"
  },
  "language_info": {
   "codemirror_mode": {
    "name": "ipython",
    "version": 3
   },
   "file_extension": ".py",
   "mimetype": "text/x-python",
   "name": "python",
   "nbconvert_exporter": "python",
   "pygments_lexer": "ipython3",
   "version": "3.11.11"
  }
 },
 "nbformat": 4,
 "nbformat_minor": 5
}
