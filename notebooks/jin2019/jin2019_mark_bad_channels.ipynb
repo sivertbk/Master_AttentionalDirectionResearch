{
 "cells": [
  {
   "cell_type": "code",
   "execution_count": null,
   "metadata": {},
   "outputs": [
    {
     "name": "stderr",
     "output_type": "stream",
     "text": [
      "qt.qpa.plugin: Could not find the Qt platform plugin \"wayland\" in \"\"\n"
     ]
    }
   ],
   "source": [
    "import mne\n",
    "import numpy as np\n",
    "import matplotlib.pyplot as plt\n",
    "import pandas as pd\n",
    "from pathlib import Path\n",
    "import os\n",
    "from time import time\n",
    "from autoreject import AutoReject, Ransac\n",
    "import psutil\n",
    "import gc\n",
    "import json\n",
    "from mne.preprocessing import ICA\n",
    "\n",
    "import utils.config as config\n",
    "from utils.config import DATASETS\n",
    "\n",
    "%matplotlib qt"
   ]
  },
  {
   "cell_type": "code",
   "execution_count": 2,
   "metadata": {},
   "outputs": [],
   "source": [
    "### Defining constants and preparing stuff ###\n",
    "\n",
    "subjects = DATASETS[\"Jin2019\"].subjects\n",
    "sessions = DATASETS[\"Jin2019\"].sessions\n",
    "bids_root = os.path.join(DATASETS[\"Jin2019\"].path, \"study1/raw/eeg/\")\n",
    "path_events = os.path.join(DATASETS[\"Jin2019\"].path, \"study1/raw/beh/new_events/\")\n",
    "\n",
    "df_subject_data = DATASETS[\"Jin2019\"].extra_info[\"subject_session_df\"]\n",
    "\n",
    "tmin = config.EEG_SETTINGS[\"EPOCH_START_SEC\"]\n",
    "tmax = tmin + config.EEG_SETTINGS[\"EPOCH_LENGTH_SEC\"]\n",
    "\n",
    "mapping_128_to_64 = DATASETS[\"Jin2019\"].mapping_channels\n",
    "mapping_non_eeg = DATASETS[\"Jin2019\"].mapping_non_eeg"
   ]
  },
  {
   "cell_type": "code",
   "execution_count": 3,
   "metadata": {},
   "outputs": [],
   "source": [
    "def mark_bad_channels(subject_list, bids_root, bad_channels_dict=None):\n",
    "    \"\"\"\n",
    "    Interactively mark bad channels for each subject and session.\n",
    "    \n",
    "    Parameters:\n",
    "        subject_list (list): List of subject IDs.\n",
    "        data_dir (str): Directory where raw files are stored.\n",
    "        bad_channels_dict (dict): Existing dictionary to update (default: None).\n",
    "    \n",
    "    Returns:\n",
    "        dict: Dictionary with bad channels for each subject and session.\n",
    "    \"\"\"\n",
    "    if bad_channels_dict is None:\n",
    "        bad_channels_dict = {}  # Initialize a new dictionary if not provided\n",
    "\n",
    "    for subject in subject_list:\n",
    "        print(f\"\\nProcessing subject: {subject}\")\n",
    "        \n",
    "        # Initialize dictionary for the subject if not present\n",
    "        if subject not in bad_channels_dict:\n",
    "            bad_channels_dict[subject] = {}\n",
    "        \n",
    "        # Loop through sessions (assume session files follow a pattern)\n",
    "        for session in [1, 2]:  # Replace with actual session names if different\n",
    "            try:\n",
    "                # Construct file path\n",
    "                raw_file = bids_root + df_subject_data.iloc[subject - 1, session - 1] + \".bdf\"\n",
    "                \n",
    "                # Load raw data\n",
    "                raw = mne.io.read_raw_bdf(raw_file, preload=True)\n",
    "                print(f\"Loaded: {raw_file}\")\n",
    "                \n",
    "                # Extracting the channel names\n",
    "                old_ch_names = raw.ch_names\n",
    "\n",
    "                ### Temporary channel names ###\n",
    "\n",
    "                # Placeholder names for the old channels\n",
    "                temp_ch_names = ['temp_' + ch for ch in old_ch_names[:-9]]\n",
    "                temp_ch_names.extend(old_ch_names[-9:])\n",
    "                mapping_old_to_temp = dict(zip(old_ch_names, temp_ch_names))\n",
    "\n",
    "                # Rename the channels in the dataset\n",
    "                raw.rename_channels(mapping_old_to_temp)\n",
    "                raw.rename_channels(mapping_128_to_64)\n",
    "                raw.rename_channels(mapping_non_eeg)\n",
    "\n",
    "                # Set the channel types for the EXG channels\n",
    "                raw.set_channel_types({\n",
    "                    'sacc_EOG1': 'eog',\n",
    "                    'sacc_EOG2': 'eog',\n",
    "                    'blink_EOG1': 'eog',\n",
    "                    'blink_EOG2': 'eog',\n",
    "                    'EXG5': 'misc',  # Could be a mastoid, set as misc\n",
    "                    'EXG6': 'misc',  # Could be a mastoid, set as misc\n",
    "                    'EXG7': 'misc',  # Could be a mastoid, set as misc\n",
    "                    'EXG8': 'misc'   # Could be a mastoid, set as misc\n",
    "                })\n",
    "\n",
    "                # Identify non-EEG channels\n",
    "                non_eeg_channels = [ch for ch, ch_type in zip(raw.ch_names, raw.get_channel_types()) if ch_type != 'eeg']\n",
    "\n",
    "                # Get a list of the channels you want to retain (the new 64-channel names and the non-EEG channels)\n",
    "                channels_to_keep = list(mapping_128_to_64.values()) + non_eeg_channels\n",
    "\n",
    "                # Drop the channels not in the 64-channel system\n",
    "                raw.pick(channels_to_keep)\n",
    "\n",
    "                # Plot raw data to interactively select bad channels\n",
    "                print(\"Mark bad channels interactively and close the plot window to continue...\")\n",
    "                raw.plot(highpass=1, lowpass=40, block=True)\n",
    "                \n",
    "                # Save the marked bad channels in the dictionary\n",
    "                bad_channels_dict[subject][session] = raw.info['bads']\n",
    "                print(f\"Bad channels for subject {subject}, {session}: {raw.info['bads']}\")\n",
    "                del raw\n",
    "                gc.collect()\n",
    "            \n",
    "            except FileNotFoundError:\n",
    "                print(f\"File not found: {raw_file}. Skipping this session.\")\n",
    "                continue\n",
    "\n",
    "    return bad_channels_dict"
   ]
  },
  {
   "cell_type": "code",
   "execution_count": 4,
   "metadata": {},
   "outputs": [
    {
     "name": "stdout",
     "output_type": "stream",
     "text": [
      "\n",
      "Processing subject: 1\n",
      "Extracting EDF parameters from /home/sivert/Documents/Master_AttentionalDirectionResearch/data/datasets/jin2019/study1/raw/eeg/sub1_1.bdf...\n",
      "BDF file detected\n",
      "Setting channel info structure...\n",
      "Creating raw.info structure...\n",
      "Reading 0 ... 3631615  =      0.000 ...  7092.998 secs...\n",
      "Loaded: /home/sivert/Documents/Master_AttentionalDirectionResearch/data/datasets/jin2019/study1/raw/eeg/sub1_1.bdf\n"
     ]
    },
    {
     "name": "stderr",
     "output_type": "stream",
     "text": [
      "/tmp/ipykernel_1572708/4070257559.py:49: RuntimeWarning: The unit for channel(s) EXG5, EXG6, EXG7, EXG8 has changed from V to NA.\n",
      "  raw.set_channel_types({\n"
     ]
    },
    {
     "name": "stdout",
     "output_type": "stream",
     "text": [
      "Mark bad channels interactively and close the plot window to continue...\n",
      "Setting up band-pass filter from 1 - 40 Hz\n",
      "\n",
      "IIR filter parameters\n",
      "---------------------\n",
      "Butterworth bandpass zero-phase (two-pass forward and reverse) non-causal filter:\n",
      "- Filter order 16 (effective, after forward-backward)\n",
      "- Cutoffs at 1.00, 40.00 Hz: -6.02, -6.02 dB\n",
      "\n",
      "Using matplotlib as 2D backend.\n",
      "Channels marked as bad:\n",
      "['FC1', 'C1']\n",
      "Bad channels for subject 1, 1: ['FC1', 'C1']\n",
      "Extracting EDF parameters from /home/sivert/Documents/Master_AttentionalDirectionResearch/data/datasets/jin2019/study1/raw/eeg/sub1_2.bdf...\n",
      "BDF file detected\n",
      "Setting channel info structure...\n",
      "Creating raw.info structure...\n",
      "Reading 0 ... 3763199  =      0.000 ...  7349.998 secs...\n",
      "Loaded: /home/sivert/Documents/Master_AttentionalDirectionResearch/data/datasets/jin2019/study1/raw/eeg/sub1_2.bdf\n"
     ]
    },
    {
     "name": "stderr",
     "output_type": "stream",
     "text": [
      "/tmp/ipykernel_1572708/4070257559.py:49: RuntimeWarning: The unit for channel(s) EXG5, EXG6, EXG7, EXG8 has changed from V to NA.\n",
      "  raw.set_channel_types({\n"
     ]
    },
    {
     "name": "stdout",
     "output_type": "stream",
     "text": [
      "Mark bad channels interactively and close the plot window to continue...\n",
      "Setting up band-pass filter from 1 - 40 Hz\n",
      "\n",
      "IIR filter parameters\n",
      "---------------------\n",
      "Butterworth bandpass zero-phase (two-pass forward and reverse) non-causal filter:\n",
      "- Filter order 16 (effective, after forward-backward)\n",
      "- Cutoffs at 1.00, 40.00 Hz: -6.02, -6.02 dB\n",
      "\n",
      "Channels marked as bad:\n",
      "none\n",
      "Bad channels for subject 1, 2: []\n",
      "\n",
      "Processing subject: 2\n",
      "Extracting EDF parameters from /home/sivert/Documents/Master_AttentionalDirectionResearch/data/datasets/jin2019/study1/raw/eeg/sub2_1.bdf...\n",
      "BDF file detected\n",
      "Setting channel info structure...\n",
      "Creating raw.info structure...\n",
      "Reading 0 ... 3269631  =      0.000 ...  6385.998 secs...\n",
      "Loaded: /home/sivert/Documents/Master_AttentionalDirectionResearch/data/datasets/jin2019/study1/raw/eeg/sub2_1.bdf\n"
     ]
    },
    {
     "name": "stderr",
     "output_type": "stream",
     "text": [
      "/tmp/ipykernel_1572708/4070257559.py:49: RuntimeWarning: The unit for channel(s) EXG5, EXG6, EXG7, EXG8 has changed from V to NA.\n",
      "  raw.set_channel_types({\n"
     ]
    },
    {
     "name": "stdout",
     "output_type": "stream",
     "text": [
      "Mark bad channels interactively and close the plot window to continue...\n",
      "Setting up band-pass filter from 1 - 40 Hz\n",
      "\n",
      "IIR filter parameters\n",
      "---------------------\n",
      "Butterworth bandpass zero-phase (two-pass forward and reverse) non-causal filter:\n",
      "- Filter order 16 (effective, after forward-backward)\n",
      "- Cutoffs at 1.00, 40.00 Hz: -6.02, -6.02 dB\n",
      "\n",
      "Channels marked as bad:\n",
      "none\n"
     ]
    },
    {
     "ename": "KeyboardInterrupt",
     "evalue": "",
     "output_type": "error",
     "traceback": [
      "\u001b[0;31m---------------------------------------------------------------------------\u001b[0m",
      "\u001b[0;31mKeyboardInterrupt\u001b[0m                         Traceback (most recent call last)",
      "Cell \u001b[0;32mIn[4], line 3\u001b[0m\n\u001b[1;32m      1\u001b[0m \u001b[38;5;66;03m### Marking bad channels ###\u001b[39;00m\n\u001b[0;32m----> 3\u001b[0m bad_channels_dict \u001b[38;5;241m=\u001b[39m \u001b[43mmark_bad_channels\u001b[49m\u001b[43m(\u001b[49m\u001b[43msubjects\u001b[49m\u001b[43m,\u001b[49m\u001b[43m \u001b[49m\u001b[43mbids_root\u001b[49m\u001b[43m)\u001b[49m\n",
      "Cell \u001b[0;32mIn[3], line 71\u001b[0m, in \u001b[0;36mmark_bad_channels\u001b[0;34m(subject_list, bids_root, bad_channels_dict)\u001b[0m\n\u001b[1;32m     69\u001b[0m \u001b[38;5;66;03m# Plot raw data to interactively select bad channels\u001b[39;00m\n\u001b[1;32m     70\u001b[0m \u001b[38;5;28mprint\u001b[39m(\u001b[38;5;124m\"\u001b[39m\u001b[38;5;124mMark bad channels interactively and close the plot window to continue...\u001b[39m\u001b[38;5;124m\"\u001b[39m)\n\u001b[0;32m---> 71\u001b[0m \u001b[43mraw\u001b[49m\u001b[38;5;241;43m.\u001b[39;49m\u001b[43mplot\u001b[49m\u001b[43m(\u001b[49m\u001b[43mhighpass\u001b[49m\u001b[38;5;241;43m=\u001b[39;49m\u001b[38;5;241;43m1\u001b[39;49m\u001b[43m,\u001b[49m\u001b[43m \u001b[49m\u001b[43mlowpass\u001b[49m\u001b[38;5;241;43m=\u001b[39;49m\u001b[38;5;241;43m40\u001b[39;49m\u001b[43m,\u001b[49m\u001b[43m \u001b[49m\u001b[43mblock\u001b[49m\u001b[38;5;241;43m=\u001b[39;49m\u001b[38;5;28;43;01mTrue\u001b[39;49;00m\u001b[43m)\u001b[49m\n\u001b[1;32m     73\u001b[0m \u001b[38;5;66;03m# Save the marked bad channels in the dictionary\u001b[39;00m\n\u001b[1;32m     74\u001b[0m bad_channels_dict[subject][session] \u001b[38;5;241m=\u001b[39m raw\u001b[38;5;241m.\u001b[39minfo[\u001b[38;5;124m'\u001b[39m\u001b[38;5;124mbads\u001b[39m\u001b[38;5;124m'\u001b[39m]\n",
      "File \u001b[0;32m~/anaconda3/envs/mne-env/lib/python3.9/site-packages/mne/io/base.py:1848\u001b[0m, in \u001b[0;36mBaseRaw.plot\u001b[0;34m(self, events, duration, start, n_channels, bgcolor, color, bad_color, event_color, scalings, remove_dc, order, show_options, title, show, block, highpass, lowpass, filtorder, clipping, show_first_samp, proj, group_by, butterfly, decim, noise_cov, event_id, show_scrollbars, show_scalebars, time_format, precompute, use_opengl, picks, theme, overview_mode, splash, verbose)\u001b[0m\n\u001b[1;32m   1807\u001b[0m \u001b[38;5;129m@copy_function_doc_to_method_doc\u001b[39m(plot_raw)\n\u001b[1;32m   1808\u001b[0m \u001b[38;5;28;01mdef\u001b[39;00m \u001b[38;5;21mplot\u001b[39m(\n\u001b[1;32m   1809\u001b[0m     \u001b[38;5;28mself\u001b[39m,\n\u001b[0;32m   (...)\u001b[0m\n\u001b[1;32m   1846\u001b[0m     verbose\u001b[38;5;241m=\u001b[39m\u001b[38;5;28;01mNone\u001b[39;00m,\n\u001b[1;32m   1847\u001b[0m ):\n\u001b[0;32m-> 1848\u001b[0m     \u001b[38;5;28;01mreturn\u001b[39;00m \u001b[43mplot_raw\u001b[49m\u001b[43m(\u001b[49m\n\u001b[1;32m   1849\u001b[0m \u001b[43m        \u001b[49m\u001b[38;5;28;43mself\u001b[39;49m\u001b[43m,\u001b[49m\n\u001b[1;32m   1850\u001b[0m \u001b[43m        \u001b[49m\u001b[43mevents\u001b[49m\u001b[43m,\u001b[49m\n\u001b[1;32m   1851\u001b[0m \u001b[43m        \u001b[49m\u001b[43mduration\u001b[49m\u001b[43m,\u001b[49m\n\u001b[1;32m   1852\u001b[0m \u001b[43m        \u001b[49m\u001b[43mstart\u001b[49m\u001b[43m,\u001b[49m\n\u001b[1;32m   1853\u001b[0m \u001b[43m        \u001b[49m\u001b[43mn_channels\u001b[49m\u001b[43m,\u001b[49m\n\u001b[1;32m   1854\u001b[0m \u001b[43m        \u001b[49m\u001b[43mbgcolor\u001b[49m\u001b[43m,\u001b[49m\n\u001b[1;32m   1855\u001b[0m \u001b[43m        \u001b[49m\u001b[43mcolor\u001b[49m\u001b[43m,\u001b[49m\n\u001b[1;32m   1856\u001b[0m \u001b[43m        \u001b[49m\u001b[43mbad_color\u001b[49m\u001b[43m,\u001b[49m\n\u001b[1;32m   1857\u001b[0m \u001b[43m        \u001b[49m\u001b[43mevent_color\u001b[49m\u001b[43m,\u001b[49m\n\u001b[1;32m   1858\u001b[0m \u001b[43m        \u001b[49m\u001b[43mscalings\u001b[49m\u001b[43m,\u001b[49m\n\u001b[1;32m   1859\u001b[0m \u001b[43m        \u001b[49m\u001b[43mremove_dc\u001b[49m\u001b[43m,\u001b[49m\n\u001b[1;32m   1860\u001b[0m \u001b[43m        \u001b[49m\u001b[43morder\u001b[49m\u001b[43m,\u001b[49m\n\u001b[1;32m   1861\u001b[0m \u001b[43m        \u001b[49m\u001b[43mshow_options\u001b[49m\u001b[43m,\u001b[49m\n\u001b[1;32m   1862\u001b[0m \u001b[43m        \u001b[49m\u001b[43mtitle\u001b[49m\u001b[43m,\u001b[49m\n\u001b[1;32m   1863\u001b[0m \u001b[43m        \u001b[49m\u001b[43mshow\u001b[49m\u001b[43m,\u001b[49m\n\u001b[1;32m   1864\u001b[0m \u001b[43m        \u001b[49m\u001b[43mblock\u001b[49m\u001b[43m,\u001b[49m\n\u001b[1;32m   1865\u001b[0m \u001b[43m        \u001b[49m\u001b[43mhighpass\u001b[49m\u001b[43m,\u001b[49m\n\u001b[1;32m   1866\u001b[0m \u001b[43m        \u001b[49m\u001b[43mlowpass\u001b[49m\u001b[43m,\u001b[49m\n\u001b[1;32m   1867\u001b[0m \u001b[43m        \u001b[49m\u001b[43mfiltorder\u001b[49m\u001b[43m,\u001b[49m\n\u001b[1;32m   1868\u001b[0m \u001b[43m        \u001b[49m\u001b[43mclipping\u001b[49m\u001b[43m,\u001b[49m\n\u001b[1;32m   1869\u001b[0m \u001b[43m        \u001b[49m\u001b[43mshow_first_samp\u001b[49m\u001b[43m,\u001b[49m\n\u001b[1;32m   1870\u001b[0m \u001b[43m        \u001b[49m\u001b[43mproj\u001b[49m\u001b[43m,\u001b[49m\n\u001b[1;32m   1871\u001b[0m \u001b[43m        \u001b[49m\u001b[43mgroup_by\u001b[49m\u001b[43m,\u001b[49m\n\u001b[1;32m   1872\u001b[0m \u001b[43m        \u001b[49m\u001b[43mbutterfly\u001b[49m\u001b[43m,\u001b[49m\n\u001b[1;32m   1873\u001b[0m \u001b[43m        \u001b[49m\u001b[43mdecim\u001b[49m\u001b[43m,\u001b[49m\n\u001b[1;32m   1874\u001b[0m \u001b[43m        \u001b[49m\u001b[43mnoise_cov\u001b[49m\u001b[38;5;241;43m=\u001b[39;49m\u001b[43mnoise_cov\u001b[49m\u001b[43m,\u001b[49m\n\u001b[1;32m   1875\u001b[0m \u001b[43m        \u001b[49m\u001b[43mevent_id\u001b[49m\u001b[38;5;241;43m=\u001b[39;49m\u001b[43mevent_id\u001b[49m\u001b[43m,\u001b[49m\n\u001b[1;32m   1876\u001b[0m \u001b[43m        \u001b[49m\u001b[43mshow_scrollbars\u001b[49m\u001b[38;5;241;43m=\u001b[39;49m\u001b[43mshow_scrollbars\u001b[49m\u001b[43m,\u001b[49m\n\u001b[1;32m   1877\u001b[0m \u001b[43m        \u001b[49m\u001b[43mshow_scalebars\u001b[49m\u001b[38;5;241;43m=\u001b[39;49m\u001b[43mshow_scalebars\u001b[49m\u001b[43m,\u001b[49m\n\u001b[1;32m   1878\u001b[0m \u001b[43m        \u001b[49m\u001b[43mtime_format\u001b[49m\u001b[38;5;241;43m=\u001b[39;49m\u001b[43mtime_format\u001b[49m\u001b[43m,\u001b[49m\n\u001b[1;32m   1879\u001b[0m \u001b[43m        \u001b[49m\u001b[43mprecompute\u001b[49m\u001b[38;5;241;43m=\u001b[39;49m\u001b[43mprecompute\u001b[49m\u001b[43m,\u001b[49m\n\u001b[1;32m   1880\u001b[0m \u001b[43m        \u001b[49m\u001b[43muse_opengl\u001b[49m\u001b[38;5;241;43m=\u001b[39;49m\u001b[43muse_opengl\u001b[49m\u001b[43m,\u001b[49m\n\u001b[1;32m   1881\u001b[0m \u001b[43m        \u001b[49m\u001b[43mpicks\u001b[49m\u001b[38;5;241;43m=\u001b[39;49m\u001b[43mpicks\u001b[49m\u001b[43m,\u001b[49m\n\u001b[1;32m   1882\u001b[0m \u001b[43m        \u001b[49m\u001b[43mtheme\u001b[49m\u001b[38;5;241;43m=\u001b[39;49m\u001b[43mtheme\u001b[49m\u001b[43m,\u001b[49m\n\u001b[1;32m   1883\u001b[0m \u001b[43m        \u001b[49m\u001b[43moverview_mode\u001b[49m\u001b[38;5;241;43m=\u001b[39;49m\u001b[43moverview_mode\u001b[49m\u001b[43m,\u001b[49m\n\u001b[1;32m   1884\u001b[0m \u001b[43m        \u001b[49m\u001b[43msplash\u001b[49m\u001b[38;5;241;43m=\u001b[39;49m\u001b[43msplash\u001b[49m\u001b[43m,\u001b[49m\n\u001b[1;32m   1885\u001b[0m \u001b[43m        \u001b[49m\u001b[43mverbose\u001b[49m\u001b[38;5;241;43m=\u001b[39;49m\u001b[43mverbose\u001b[49m\u001b[43m,\u001b[49m\n\u001b[1;32m   1886\u001b[0m \u001b[43m    \u001b[49m\u001b[43m)\u001b[49m\n",
      "File \u001b[0;32m<decorator-gen-75>:12\u001b[0m, in \u001b[0;36mplot_raw\u001b[0;34m(raw, events, duration, start, n_channels, bgcolor, color, bad_color, event_color, scalings, remove_dc, order, show_options, title, show, block, highpass, lowpass, filtorder, clipping, show_first_samp, proj, group_by, butterfly, decim, noise_cov, event_id, show_scrollbars, show_scalebars, time_format, precompute, use_opengl, picks, theme, overview_mode, splash, verbose)\u001b[0m\n",
      "File \u001b[0;32m~/anaconda3/envs/mne-env/lib/python3.9/site-packages/mne/viz/raw.py:406\u001b[0m, in \u001b[0;36mplot_raw\u001b[0;34m(raw, events, duration, start, n_channels, bgcolor, color, bad_color, event_color, scalings, remove_dc, order, show_options, title, show, block, highpass, lowpass, filtorder, clipping, show_first_samp, proj, group_by, butterfly, decim, noise_cov, event_id, show_scrollbars, show_scalebars, time_format, precompute, use_opengl, picks, theme, overview_mode, splash, verbose)\u001b[0m\n\u001b[1;32m    351\u001b[0m precompute \u001b[38;5;241m=\u001b[39m _handle_precompute(precompute)\n\u001b[1;32m    352\u001b[0m params \u001b[38;5;241m=\u001b[39m \u001b[38;5;28mdict\u001b[39m(\n\u001b[1;32m    353\u001b[0m     inst\u001b[38;5;241m=\u001b[39mraw,\n\u001b[1;32m    354\u001b[0m     info\u001b[38;5;241m=\u001b[39minfo,\n\u001b[0;32m   (...)\u001b[0m\n\u001b[1;32m    403\u001b[0m     splash\u001b[38;5;241m=\u001b[39msplash,\n\u001b[1;32m    404\u001b[0m )\n\u001b[0;32m--> 406\u001b[0m fig \u001b[38;5;241m=\u001b[39m \u001b[43m_get_browser\u001b[49m\u001b[43m(\u001b[49m\u001b[43mshow\u001b[49m\u001b[38;5;241;43m=\u001b[39;49m\u001b[43mshow\u001b[49m\u001b[43m,\u001b[49m\u001b[43m \u001b[49m\u001b[43mblock\u001b[49m\u001b[38;5;241;43m=\u001b[39;49m\u001b[43mblock\u001b[49m\u001b[43m,\u001b[49m\u001b[43m \u001b[49m\u001b[38;5;241;43m*\u001b[39;49m\u001b[38;5;241;43m*\u001b[39;49m\u001b[43mparams\u001b[49m\u001b[43m)\u001b[49m\n\u001b[1;32m    408\u001b[0m \u001b[38;5;28;01mreturn\u001b[39;00m fig\n",
      "File \u001b[0;32m~/anaconda3/envs/mne-env/lib/python3.9/site-packages/mne/viz/_figure.py:704\u001b[0m, in \u001b[0;36m_get_browser\u001b[0;34m(show, block, **kwargs)\u001b[0m\n\u001b[1;32m    702\u001b[0m \u001b[38;5;66;03m# Initialize Browser\u001b[39;00m\n\u001b[1;32m    703\u001b[0m fig \u001b[38;5;241m=\u001b[39m backend\u001b[38;5;241m.\u001b[39m_init_browser(\u001b[38;5;241m*\u001b[39m\u001b[38;5;241m*\u001b[39mkwargs)\n\u001b[0;32m--> 704\u001b[0m \u001b[43m_show_browser\u001b[49m\u001b[43m(\u001b[49m\u001b[43mshow\u001b[49m\u001b[38;5;241;43m=\u001b[39;49m\u001b[43mshow\u001b[49m\u001b[43m,\u001b[49m\u001b[43m \u001b[49m\u001b[43mblock\u001b[49m\u001b[38;5;241;43m=\u001b[39;49m\u001b[43mblock\u001b[49m\u001b[43m,\u001b[49m\u001b[43m \u001b[49m\u001b[43mfig\u001b[49m\u001b[38;5;241;43m=\u001b[39;49m\u001b[43mfig\u001b[49m\u001b[43m)\u001b[49m\n\u001b[1;32m    706\u001b[0m \u001b[38;5;28;01mreturn\u001b[39;00m fig\n",
      "File \u001b[0;32m~/anaconda3/envs/mne-env/lib/python3.9/site-packages/mne/viz/utils.py:183\u001b[0m, in \u001b[0;36m_show_browser\u001b[0;34m(show, block, fig, **kwargs)\u001b[0m\n\u001b[1;32m    181\u001b[0m     block \u001b[38;5;241m=\u001b[39m \u001b[38;5;28;01mFalse\u001b[39;00m\n\u001b[1;32m    182\u001b[0m \u001b[38;5;28;01mif\u001b[39;00m backend \u001b[38;5;241m==\u001b[39m \u001b[38;5;124m\"\u001b[39m\u001b[38;5;124mmatplotlib\u001b[39m\u001b[38;5;124m\"\u001b[39m:\n\u001b[0;32m--> 183\u001b[0m     \u001b[43mplt_show\u001b[49m\u001b[43m(\u001b[49m\u001b[43mshow\u001b[49m\u001b[43m,\u001b[49m\u001b[43m \u001b[49m\u001b[43mblock\u001b[49m\u001b[38;5;241;43m=\u001b[39;49m\u001b[43mblock\u001b[49m\u001b[43m,\u001b[49m\u001b[43m \u001b[49m\u001b[38;5;241;43m*\u001b[39;49m\u001b[38;5;241;43m*\u001b[39;49m\u001b[43mkwargs\u001b[49m\u001b[43m)\u001b[49m\n\u001b[1;32m    184\u001b[0m \u001b[38;5;28;01melse\u001b[39;00m:\n\u001b[1;32m    185\u001b[0m     \u001b[38;5;28;01mfrom\u001b[39;00m \u001b[38;5;21;01mqtpy\u001b[39;00m\u001b[38;5;21;01m.\u001b[39;00m\u001b[38;5;21;01mQtCore\u001b[39;00m \u001b[38;5;28;01mimport\u001b[39;00m Qt\n",
      "File \u001b[0;32m~/anaconda3/envs/mne-env/lib/python3.9/site-packages/mne/viz/utils.py:158\u001b[0m, in \u001b[0;36mplt_show\u001b[0;34m(show, fig, **kwargs)\u001b[0m\n\u001b[1;32m    156\u001b[0m \u001b[38;5;28;01mif\u001b[39;00m show \u001b[38;5;129;01mand\u001b[39;00m backend \u001b[38;5;241m!=\u001b[39m \u001b[38;5;124m\"\u001b[39m\u001b[38;5;124magg\u001b[39m\u001b[38;5;124m\"\u001b[39m:\n\u001b[1;32m    157\u001b[0m     logger\u001b[38;5;241m.\u001b[39mdebug(\u001b[38;5;124mf\u001b[39m\u001b[38;5;124m\"\u001b[39m\u001b[38;5;124mShowing plot for backend \u001b[39m\u001b[38;5;132;01m{\u001b[39;00m\u001b[38;5;28mrepr\u001b[39m(backend)\u001b[38;5;132;01m}\u001b[39;00m\u001b[38;5;124m\"\u001b[39m)\n\u001b[0;32m--> 158\u001b[0m     \u001b[43m(\u001b[49m\u001b[43mfig\u001b[49m\u001b[43m \u001b[49m\u001b[38;5;129;43;01mor\u001b[39;49;00m\u001b[43m \u001b[49m\u001b[43mplt\u001b[49m\u001b[43m)\u001b[49m\u001b[38;5;241;43m.\u001b[39;49m\u001b[43mshow\u001b[49m\u001b[43m(\u001b[49m\u001b[38;5;241;43m*\u001b[39;49m\u001b[38;5;241;43m*\u001b[39;49m\u001b[43mkwargs\u001b[49m\u001b[43m)\u001b[49m\n",
      "File \u001b[0;32m~/anaconda3/envs/mne-env/lib/python3.9/site-packages/matplotlib/pyplot.py:612\u001b[0m, in \u001b[0;36mshow\u001b[0;34m(*args, **kwargs)\u001b[0m\n\u001b[1;32m    568\u001b[0m \u001b[38;5;250m\u001b[39m\u001b[38;5;124;03m\"\"\"\u001b[39;00m\n\u001b[1;32m    569\u001b[0m \u001b[38;5;124;03mDisplay all open figures.\u001b[39;00m\n\u001b[1;32m    570\u001b[0m \n\u001b[0;32m   (...)\u001b[0m\n\u001b[1;32m    609\u001b[0m \u001b[38;5;124;03mexplicitly there.\u001b[39;00m\n\u001b[1;32m    610\u001b[0m \u001b[38;5;124;03m\"\"\"\u001b[39;00m\n\u001b[1;32m    611\u001b[0m _warn_if_gui_out_of_main_thread()\n\u001b[0;32m--> 612\u001b[0m \u001b[38;5;28;01mreturn\u001b[39;00m \u001b[43m_get_backend_mod\u001b[49m\u001b[43m(\u001b[49m\u001b[43m)\u001b[49m\u001b[38;5;241;43m.\u001b[39;49m\u001b[43mshow\u001b[49m\u001b[43m(\u001b[49m\u001b[38;5;241;43m*\u001b[39;49m\u001b[43margs\u001b[49m\u001b[43m,\u001b[49m\u001b[43m \u001b[49m\u001b[38;5;241;43m*\u001b[39;49m\u001b[38;5;241;43m*\u001b[39;49m\u001b[43mkwargs\u001b[49m\u001b[43m)\u001b[49m\n",
      "File \u001b[0;32m~/anaconda3/envs/mne-env/lib/python3.9/site-packages/matplotlib/backend_bases.py:3553\u001b[0m, in \u001b[0;36m_Backend.show\u001b[0;34m(cls, block)\u001b[0m\n\u001b[1;32m   3551\u001b[0m     block \u001b[38;5;241m=\u001b[39m \u001b[38;5;129;01mnot\u001b[39;00m ipython_pylab \u001b[38;5;129;01mand\u001b[39;00m \u001b[38;5;129;01mnot\u001b[39;00m is_interactive()\n\u001b[1;32m   3552\u001b[0m \u001b[38;5;28;01mif\u001b[39;00m block:\n\u001b[0;32m-> 3553\u001b[0m     \u001b[38;5;28;43mcls\u001b[39;49m\u001b[38;5;241;43m.\u001b[39;49m\u001b[43mmainloop\u001b[49m\u001b[43m(\u001b[49m\u001b[43m)\u001b[49m\n",
      "File \u001b[0;32m~/anaconda3/envs/mne-env/lib/python3.9/site-packages/matplotlib/backends/backend_qt.py:633\u001b[0m, in \u001b[0;36mFigureManagerQT.start_main_loop\u001b[0;34m(cls)\u001b[0m\n\u001b[1;32m    631\u001b[0m \u001b[38;5;28;01mif\u001b[39;00m qapp:\n\u001b[1;32m    632\u001b[0m     \u001b[38;5;28;01mwith\u001b[39;00m _allow_interrupt_qt(qapp):\n\u001b[0;32m--> 633\u001b[0m         qt_compat\u001b[38;5;241m.\u001b[39m_exec(qapp)\n",
      "File \u001b[0;32m~/anaconda3/envs/mne-env/lib/python3.9/contextlib.py:126\u001b[0m, in \u001b[0;36m_GeneratorContextManager.__exit__\u001b[0;34m(self, typ, value, traceback)\u001b[0m\n\u001b[1;32m    124\u001b[0m \u001b[38;5;28;01mif\u001b[39;00m typ \u001b[38;5;129;01mis\u001b[39;00m \u001b[38;5;28;01mNone\u001b[39;00m:\n\u001b[1;32m    125\u001b[0m     \u001b[38;5;28;01mtry\u001b[39;00m:\n\u001b[0;32m--> 126\u001b[0m         \u001b[38;5;28;43mnext\u001b[39;49m\u001b[43m(\u001b[49m\u001b[38;5;28;43mself\u001b[39;49m\u001b[38;5;241;43m.\u001b[39;49m\u001b[43mgen\u001b[49m\u001b[43m)\u001b[49m\n\u001b[1;32m    127\u001b[0m     \u001b[38;5;28;01mexcept\u001b[39;00m \u001b[38;5;167;01mStopIteration\u001b[39;00m:\n\u001b[1;32m    128\u001b[0m         \u001b[38;5;28;01mreturn\u001b[39;00m \u001b[38;5;28;01mFalse\u001b[39;00m\n",
      "File \u001b[0;32m~/anaconda3/envs/mne-env/lib/python3.9/site-packages/matplotlib/backend_bases.py:1672\u001b[0m, in \u001b[0;36m_allow_interrupt\u001b[0;34m(prepare_notifier, handle_sigint)\u001b[0m\n\u001b[1;32m   1670\u001b[0m signal\u001b[38;5;241m.\u001b[39msignal(signal\u001b[38;5;241m.\u001b[39mSIGINT, old_sigint_handler)\n\u001b[1;32m   1671\u001b[0m \u001b[38;5;28;01mif\u001b[39;00m handler_args \u001b[38;5;129;01mis\u001b[39;00m \u001b[38;5;129;01mnot\u001b[39;00m \u001b[38;5;28;01mNone\u001b[39;00m:\n\u001b[0;32m-> 1672\u001b[0m     \u001b[43mold_sigint_handler\u001b[49m\u001b[43m(\u001b[49m\u001b[38;5;241;43m*\u001b[39;49m\u001b[43mhandler_args\u001b[49m\u001b[43m)\u001b[49m\n",
      "\u001b[0;31mKeyboardInterrupt\u001b[0m: "
     ]
    },
    {
     "name": "stderr",
     "output_type": "stream",
     "text": [
      "QSocketNotifier: Invalid socket 87 and type 'Read', disabling...\n"
     ]
    }
   ],
   "source": [
    "### Marking bad channels ###\n",
    "\n",
    "bad_channels_dict = mark_bad_channels(subjects, bids_root)"
   ]
  },
  {
   "cell_type": "code",
   "execution_count": null,
   "metadata": {},
   "outputs": [],
   "source": [
    "# Save the bad channels dictionary\n",
    "bad_channels_file = \"jin2019_bad_channels.json\"\n",
    "bad_channels_path = os.path.join(config.LOGS_PATH, \"preprocessing_logs/\", bad_channels_file)\n",
    "with open(bad_channels_path, \"w\") as file:\n",
    "    json.dump(bad_channels_dict, file)\n",
    "\n",
    "print(f\"Bad channels saved to: {bad_channels_path}\")\n"
   ]
  }
 ],
 "metadata": {
  "kernelspec": {
   "display_name": "mne-env",
   "language": "python",
   "name": "python3"
  },
  "language_info": {
   "codemirror_mode": {
    "name": "ipython",
    "version": 3
   },
   "file_extension": ".py",
   "mimetype": "text/x-python",
   "name": "python",
   "nbconvert_exporter": "python",
   "pygments_lexer": "ipython3",
   "version": "3.9.20"
  }
 },
 "nbformat": 4,
 "nbformat_minor": 2
}
