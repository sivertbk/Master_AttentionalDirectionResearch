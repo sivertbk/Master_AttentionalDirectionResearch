{
 "cells": [
  {
   "cell_type": "markdown",
   "id": "a2c665a4",
   "metadata": {},
   "source": [
    "**For Each Dataset (braboszcz2017, jin2019, touryan2022), provide:**\n",
    "\n",
    "Subjects:\n",
    "\n",
    "- How many participants?\n",
    "\n",
    "- Are they the same across tasks (if multiple tasks exist)?\n",
    "\n",
    "Tasks:\n",
    "\n",
    "- List the tasks used.\n",
    "\n",
    "- Is the cognitive state comparison done within the same task or across tasks?\n",
    "\n",
    "Cognitive States Compared:\n",
    "\n",
    "- What are the two cognitive states (e.g., focused, mind-wandering)?\n",
    "\n",
    "- How are they defined or inferred (e.g., self-reports, probes, behavioral metrics)?\n",
    "\n",
    "Epochs/Trials:\n",
    "\n",
    "-  Do you have trial-level data (e.g., multiple epochs per condition per subject)?\n",
    "\n",
    "- Are the number of epochs per condition balanced?\n",
    "\n",
    "Signal Features:\n",
    "\n",
    "- What data are you comparing? (e.g., alpha-band power, broadband power, ERPs)\n",
    "\n",
    "- Are the features already averaged or trial-level?\n",
    "\n",
    "Subject-level pairing:\n",
    "\n",
    "- For each subject, do you have observations from both cognitive states?"
   ]
  },
  {
   "cell_type": "code",
   "execution_count": 1,
   "id": "aa0fefd0",
   "metadata": {},
   "outputs": [
    {
     "name": "stdout",
     "output_type": "stream",
     "text": [
      "Dataset: Jin et al. (2019)\n",
      " Subjects:\n",
      "    - 30 subjects, 0 groups: []\n",
      " Tasks:\n",
      "    - vs, sart\n",
      " States:\n",
      "    - MW, OT\n",
      " Epochs:\n",
      "    - Median epochs per condition: [vs - MW: 245.0, vs - OT: 113.0, sart - MW: 129.5, sart - OT: 76.0]\n",
      "    - Min epochs per condition: [vs - MW: 56, vs - OT: 20, sart - MW: 11, sart - OT: 20]\n",
      "    - Max epochs per condition: [vs - MW: 713, vs - OT: 594, sart - MW: 349, sart - OT: 199]\n",
      "    - State ratios: mean:2.499, min:0.321 (subject_id: 4), max:8.762 (subject_id: 30)\n"
     ]
    }
   ],
   "source": [
    "from utils.config import DATASETS\n",
    "from eeg_analyzer.dataset import Dataset\n",
    "\n",
    "dataset_config = DATASETS['jin2019']\n",
    "dataset = Dataset(dataset_config)\n",
    "dataset.load_subjects()\n",
    "\n",
    "# provide subject info\n",
    "print(dataset)"
   ]
  },
  {
   "cell_type": "code",
   "execution_count": null,
   "id": "4933044a",
   "metadata": {},
   "outputs": [],
   "source": []
  }
 ],
 "metadata": {
  "kernelspec": {
   "display_name": "mne",
   "language": "python",
   "name": "python3"
  },
  "language_info": {
   "codemirror_mode": {
    "name": "ipython",
    "version": 3
   },
   "file_extension": ".py",
   "mimetype": "text/x-python",
   "name": "python",
   "nbconvert_exporter": "python",
   "pygments_lexer": "ipython3",
   "version": "3.11.11"
  }
 },
 "nbformat": 4,
 "nbformat_minor": 5
}
