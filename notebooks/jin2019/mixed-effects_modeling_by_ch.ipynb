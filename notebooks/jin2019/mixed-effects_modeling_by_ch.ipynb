{
 "cells": [
  {
   "cell_type": "markdown",
   "id": "01b70873",
   "metadata": {},
   "source": [
    "### **Organize PSD Data**\n",
    "\n",
    "- [ ]  Ensure all power spectral data (PSD) is saved per **subject-session** in a consistent format:\n",
    "    - One file or object per subject-session\n",
    "    - Contains:\n",
    "        - EEG **channels**\n",
    "        - **Frequencies**\n",
    "        - Power per **epoch** or pre-averaged by condition\n",
    "    - Associated **metadata**:\n",
    "        - Subject ID\n",
    "        - Session ID \n",
    "        - Dataset name\n",
    "        - Cognitive **state label** (OT, MW)"
   ]
  },
  {
   "cell_type": "code",
   "execution_count": 1,
   "id": "d1f0b494",
   "metadata": {},
   "outputs": [],
   "source": [
    "from eeg_analyzer.dataset import Dataset\n",
    "from utils.config import DATASETS\n",
    "\n",
    "dataset_config = DATASETS['jin2019']\n",
    "\n",
    "dataset = Dataset(dataset_config)\n",
    "dataset.load_subjects()"
   ]
  },
  {
   "cell_type": "markdown",
   "id": "f04642cb",
   "metadata": {},
   "source": [
    "### **Extract Alpha Power**\n",
    "\n",
    "- [ ]  For each subject-session\n",
    "    - Select **8–12 Hz** frequency band\n",
    "    - **Sum power across frequencies** per channel and epoch\n",
    "- [ ]  Result per epoch:\n",
    "\n",
    "```python\n",
    "{\n",
    "    \"subject_session\": \"001_1\",\n",
    "    \"subject_id\": \"001\",\n",
    "    \"session_id\": \"1\",\n",
    "    \"channel\": \"Pz\",\n",
    "    \"task\": \"SART\",\n",
    "    \"state\": \"MW\",\n",
    "    \"alpha_power\": 3.45,\n",
    "    ...\n",
    "}\n",
    "```"
   ]
  },
  {
   "cell_type": "markdown",
   "id": "6471d8d1",
   "metadata": {},
   "source": [
    "### **Assign Numerical Condition Labels**\n",
    "\n",
    "For modeling the *ordinal direction* of alpha power:\n",
    "\n",
    "| State | Code |\n",
    "| --- | --- |\n",
    "| OT | 0 |\n",
    "| MW | 1 |\n",
    "| MED | 2 |\n",
    "- [ ]  For **Jin** and **Touryan**, you only use codes `0` and `1` (OT, MW)\n",
    "- [ ]  For **Braboszcz**, use codes `1` and `2` (MW, MED)"
   ]
  },
  {
   "cell_type": "code",
   "execution_count": 2,
   "id": "3055921f",
   "metadata": {},
   "outputs": [],
   "source": [
    "# Get all list of all epochs for all subject-session pairs as dict with these keys:\n",
    "# 'subject_session', 'subject', 'session', 'channel', 'task', 'state', 'band_power'\n",
    "\n",
    "epochs = dataset.to_long_band_power_list(\n",
    "    freq_band=(8,12),  # Alpha band\n",
    "    use_rois=False\n",
    ")\n",
    "\n",
    "estimated_length = dataset.estimate_long_band_power_length()"
   ]
  },
  {
   "cell_type": "markdown",
   "id": "cc890301",
   "metadata": {},
   "source": [
    "### **Create Long-Form DataFrame per Dataset**\n",
    "\n",
    "For each dataset, prepare:\n",
    "| subject_session | subject_id | group | channel/ROI | state | alpha_power |\n",
    "| --- | --- | --- | --- | --- | --- |\n",
    "| 001_1 | 001 | NaN | Pz | 0 | 3.24 |\n",
    "| 001_1 | 001 | NaN | Pz | 1 | 3.88 |\n",
    "| 060_1 | 060 | vip | Pz | 1 | 5.12 |\n",
    "| 060_1 | 060 | vip | Pz | 2 | 6.00 |"
   ]
  },
  {
   "cell_type": "code",
   "execution_count": 3,
   "id": "9641fa6b",
   "metadata": {},
   "outputs": [],
   "source": [
    "# create a dataframe with the epochs\n",
    "import pandas as pd\n",
    "df_full = pd.DataFrame(epochs)"
   ]
  },
  {
   "cell_type": "markdown",
   "id": "e01ac2ea",
   "metadata": {},
   "source": [
    "## **Make grouped DataFrames per channel**\n",
    "\n",
    "* [ ] Create a list of DataFrames for each its own channel.\n",
    "* [ ] Create a new column with the z-score within state.\n",
    "* [ ] Filter the data by removing all epochs with a z-score > 4."
   ]
  },
  {
   "cell_type": "code",
   "execution_count": null,
   "id": "f01690ea",
   "metadata": {},
   "outputs": [],
   "source": [
    "# Create a list of dataframes for each channel (keep the channel column)\n",
    "df_channels = []\n",
    "for channel in df_full['channel'].unique():\n",
    "    df_channel = df_full[df_full['channel'] == channel].reset_index(drop=True)\n",
    "    df_channels.append(df_channel)\n",
    "\n",
    "# create a new column with z-scores within each state\n",
    "def z_score_within_state(df):\n",
    "    grouped = df.groupby(['subject_session', 'state'])\n",
    "    df['z_score'] = grouped['band_power'].transform(lambda x: (x - x.mean()) / x.std())\n",
    "    return df\n",
    "\n",
    "# apply the z-score function to each channel dataframe\n",
    "df_channels_z = []\n",
    "for df_channel in df_channels:\n",
    "    df_channel_z = z_score_within_state(df_channel)\n",
    "    df_channels_z.append(df_channel_z)\n",
    "\n",
    "# Remove all rows where z_score > 3\n",
    "for i in range(len(df_channels_z)):\n",
    "    df_channels_z[i] = df_channels_z[i][df_channels_z[i]['z_score'] <= 3]\n",
    "\n",
    "print(df_channels_z[0].head())\n"
   ]
  },
  {
   "cell_type": "markdown",
   "id": "5b9b28d1",
   "metadata": {},
   "source": [
    "### **Fit Mixed Effects Model per Channel**\n",
    "\n",
    "Do this **separately for each dataset** and for each channel (or ROI):\n",
    "\n",
    "### ✅ Model formula:\n",
    "\n",
    "```python\n",
    "alpha_power ~ state + (state | subject_session)\n",
    "```\n",
    "\n",
    "This:\n",
    "\n",
    "- Estimates the effect of `state` (e.g., OT → MW or MW → MED)\n",
    "- Models per-subject variability in both baseline (intercept) and sensitivity (slope)"
   ]
  },
  {
   "cell_type": "code",
   "execution_count": null,
   "id": "1e95b3be",
   "metadata": {},
   "outputs": [],
   "source": [
    "# Fit mixed effects model per channel\n",
    "import statsmodels.formula.api as smf\n",
    "\n",
    "results_per_channel = {}\n",
    "\n",
    "for df_channel_z in df_channels_z:\n",
    "    channel_name = df_channel_z['channel'].iloc[0] if 'channel' in df_channel_z else None\n",
    "    # Fit the mixed effects model: alpha_power ~ state + (state | subject_session)\n",
    "    # Use 'band_power' as the dependent variable\n",
    "    # 'state' as fixed effect, random intercept and slope for 'subject_session'\n",
    "    model = smf.mixedlm(\n",
    "        \"band_power ~ state\",\n",
    "        df_channel_z,\n",
    "        groups=df_channel_z[\"subject_session\"],\n",
    "        re_formula=\"~state\"\n",
    "    )\n",
    "    result = model.fit()\n",
    "    results_per_channel[channel_name] = result\n",
    "\n",
    "# Example: print summary for one channel\n",
    "first_channel = list(results_per_channel.keys())[0]\n",
    "print(f\"Results for channel: {first_channel}\")\n",
    "print(results_per_channel[first_channel].summary())"
   ]
  },
  {
   "cell_type": "code",
   "execution_count": null,
   "id": "b7d6ee09",
   "metadata": {},
   "outputs": [],
   "source": [
    "# print summary for all channels\n",
    "for channel_name, result in results_per_channel.items():\n",
    "    print(f\"Results for channel: {channel_name}\")\n",
    "    print(result.summary())\n",
    "    print(\"\\n\")"
   ]
  },
  {
   "cell_type": "markdown",
   "id": "80507fd0",
   "metadata": {},
   "source": [
    "### **Store & Summarize Results**\n",
    "\n",
    "For each model/channel:\n",
    "\n",
    "- [ ]  Store:\n",
    "    - Fixed effect estimate for `state`\n",
    "    - p-value\n",
    "    - t-statistic (optional)\n",
    "    - Number of subjects included\n",
    "- [ ]  Save results to `.csv` or `.json`"
   ]
  },
  {
   "cell_type": "code",
   "execution_count": null,
   "id": "962a8eb7",
   "metadata": {},
   "outputs": [],
   "source": []
  },
  {
   "cell_type": "markdown",
   "id": "9d1bac86",
   "metadata": {},
   "source": [
    "### **Visualize Results**\n",
    "\n",
    "- [ ]  Plot per-channel **bar plots** or **line plots** of alpha power by condition\n",
    "- [ ]  Plot **topoplots** (scalp maps) of:\n",
    "    - `state` slope per channel\n",
    "    - p-values (FDR-corrected or raw, with masking)\n",
    "    - t-values"
   ]
  },
  {
   "cell_type": "code",
   "execution_count": null,
   "id": "58be954a",
   "metadata": {},
   "outputs": [],
   "source": [
    "import matplotlib.pyplot as plt\n",
    "from utils.config import PLOTS_PATH\n",
    "import os\n",
    "\n"
   ]
  },
  {
   "cell_type": "markdown",
   "id": "a64a3217",
   "metadata": {},
   "source": [
    "### **Correct for Multiple Comparisons**\n",
    "\n",
    "- [ ]  Across channels (e.g., for scalp maps), correct p-values using:\n",
    "    - **False Discovery Rate (FDR)**\n",
    "    - Or **cluster-based permutation test** if possible"
   ]
  },
  {
   "cell_type": "code",
   "execution_count": null,
   "id": "dfaccfd0",
   "metadata": {},
   "outputs": [],
   "source": []
  },
  {
   "cell_type": "markdown",
   "id": "3d346df7",
   "metadata": {},
   "source": [
    "### **Filter Low-Effect Subjects**\n",
    "\n",
    "- [ ]  Compute within-subject effect sizes (e.g., Cohen’s *d*) between states\n",
    "- [ ]  Re-run the model excluding sessions with **d < 0.5**\n",
    "- [ ]  Compare results to check robustness"
   ]
  },
  {
   "cell_type": "code",
   "execution_count": null,
   "id": "755bfc56",
   "metadata": {},
   "outputs": [],
   "source": []
  }
 ],
 "metadata": {
  "kernelspec": {
   "display_name": "mne-env",
   "language": "python",
   "name": "python3"
  },
  "language_info": {
   "codemirror_mode": {
    "name": "ipython",
    "version": 3
   },
   "file_extension": ".py",
   "mimetype": "text/x-python",
   "name": "python",
   "nbconvert_exporter": "python",
   "pygments_lexer": "ipython3",
   "version": "3.9.20"
  }
 },
 "nbformat": 4,
 "nbformat_minor": 5
}
