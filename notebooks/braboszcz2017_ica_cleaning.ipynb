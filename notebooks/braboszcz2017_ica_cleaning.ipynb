{
 "cells": [
  {
   "cell_type": "code",
   "execution_count": null,
   "metadata": {},
   "outputs": [],
   "source": [
    "import mne\n",
    "import os\n",
    "import gc\n",
    "import psutil\n",
    "\n",
    "import utils.config as config\n",
    "from utils.helpers import perform_ica_cleaning, format_numbers\n",
    "from utils.file_io import save_epochs, load_epochs\n",
    "from utils.config import DATASETS\n",
    "\n",
    "%matplotlib qt\n",
    "\n",
    "### Defining constants and preparing stuff ###\n",
    "\n",
    "DATASET = DATASETS[\"braboszcz2017\"]\n",
    "\n",
    "subfolder_input = \"preprocessed\"\n",
    "subfolder_output = \"ica_cleaned\"\n",
    "path_epochs = DATASET.path_epochs\n",
    "path_epochs_preprocessed = os.path.join(path_epochs, subfolder_input)\n",
    "\n",
    "# EEG settings\n",
    "subjects = format_numbers(DATASET.subjects, 3)\n",
    "sessions = DATASET.sessions\n",
    "\n",
    "process = psutil.Process()"
   ]
  },
  {
   "cell_type": "code",
   "execution_count": null,
   "metadata": {},
   "outputs": [],
   "source": [
    "# Load in the epochs and do ICA\n",
    "for subject in subjects:\n",
    "    for session in sessions:\n",
    "        epochs = load_epochs(path_epochs_preprocessed, subject, session)\n",
    "\n",
    "        # Skip if epochs are not loaded\n",
    "        if epochs is None:\n",
    "            continue\n",
    "\n",
    "        # Extract epochs for each session\n",
    "        epochs_med2 = epochs[\"med2\"]\n",
    "        epochs_think2 = epochs[\"think2\"]\n",
    "\n",
    "        # Perform ICA on med2 epochs\n",
    "        cleaned_epochs_med2, ica_med2 = perform_ica_cleaning(epochs_med2, subject)\n",
    "\n",
    "        # Perform ICA on think2 epochs\n",
    "        cleaned_epochs_think2, ica_think2 = perform_ica_cleaning(epochs_think2, subject)\n",
    "\n",
    "        # concatenate the epochs\n",
    "        epochs_concat = mne.concatenate_epochs([cleaned_epochs_med2, cleaned_epochs_think2])\n",
    "\n",
    "        # Save the epochs\n",
    "        save_epochs(epochs_concat, path_epochs, subject, subfolder=subfolder_output)\n",
    "        \n",
    "        del epochs\n",
    "        gc.collect()\n",
    "        print(f\"Memory after cleanup: {process.memory_info().rss / 1e6:.2f} MB\")"
   ]
  }
 ],
 "metadata": {
  "language_info": {
   "name": "python"
  }
 },
 "nbformat": 4,
 "nbformat_minor": 2
}
