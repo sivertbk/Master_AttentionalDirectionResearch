{
 "cells": [
  {
   "cell_type": "code",
   "execution_count": 4,
   "metadata": {},
   "outputs": [
    {
     "name": "stdout",
     "output_type": "stream",
     "text": [
      "Subject(subject_id=061, session_id=1, dataset='Braboszcz et al. (2017)')\n",
      "Focused PSD shape: (120, 64, 181, 1)\n"
     ]
    }
   ],
   "source": [
    "from utils.config import DATASETS\n",
    "from eeg_analyzer.subject import Subject\n",
    "\n",
    "# Initialize subject clearly\n",
    "subject = Subject(subject_id='061', session_id=1, dataset_config=DATASETS['braboszcz2017'])\n",
    "\n",
    "# Load PSD data explicitly\n",
    "subject.load_data()\n",
    "\n",
    "# Quick check explicitly\n",
    "print(subject)\n",
    "\n",
    "# Retrieve PSD data for a specific state\n",
    "focused_psd = subject.get_epochs_by_state('mind-wandering')\n",
    "print(\"Focused PSD shape:\", focused_psd.shape)\n",
    "\n",
    "# Normalize PSD without overwriting original\n",
    "# normalized_psd = subject.normalize_psd(method='z-score')\n"
   ]
  },
  {
   "cell_type": "code",
   "execution_count": 1,
   "metadata": {},
   "outputs": [
    {
     "name": "stdout",
     "output_type": "stream",
     "text": [
      "Mean PSD shape: (73, 181, 1)\n",
      "Alpha band power shape: (337, 73, 1)\n",
      "Delta band power shape: (337, 73, 1)\n",
      "Theta band power shape: (337, 73, 1)\n",
      "Alpha band power shape: (337, 73, 1)\n",
      "Beta band power shape: (337, 73, 1)\n"
     ]
    }
   ],
   "source": [
    "from eeg_analyzer.subject import Subject\n",
    "from utils.config import DATASETS\n",
    "\n",
    "# Initialize subject clearly\n",
    "subject = Subject('2', 1, DATASETS['jin2019'])\n",
    "\n",
    "# Load data explicitly, also initializes Metrics automatically\n",
    "subject.load_data()\n",
    "\n",
    "# Directly access metrics from subject clearly\n",
    "mean_psd = subject.metrics.mean_power()\n",
    "alpha_band_power = subject.metrics.frequency_band_power((8, 12))\n",
    "\n",
    "print(\"Mean PSD shape:\", mean_psd.shape)\n",
    "print(\"Alpha band power shape:\", alpha_band_power.shape)\n",
    "\n",
    "# Aggregate standard frequency bands explicitly\n",
    "bands = {\n",
    "    'delta': (2, 4),\n",
    "    'theta': (4, 8),\n",
    "    'alpha': (8, 12),\n",
    "    'beta': (13, 30)\n",
    "}\n",
    "\n",
    "band_powers = subject.metrics.aggregate_frequency_bands(bands)\n",
    "for band, power in band_powers.items():\n",
    "    print(f\"{band.capitalize()} band power shape:\", power.shape)\n"
   ]
  }
 ],
 "metadata": {
  "kernelspec": {
   "display_name": "mne-env",
   "language": "python",
   "name": "python3"
  },
  "language_info": {
   "codemirror_mode": {
    "name": "ipython",
    "version": 3
   },
   "file_extension": ".py",
   "mimetype": "text/x-python",
   "name": "python",
   "nbconvert_exporter": "python",
   "pygments_lexer": "ipython3",
   "version": "3.9.20"
  }
 },
 "nbformat": 4,
 "nbformat_minor": 2
}
